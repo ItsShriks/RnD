{
 "cells": [
  {
   "cell_type": "code",
   "execution_count": 17,
   "id": "d5a95c89-d332-41b2-b3a6-9af23c67c28b",
   "metadata": {},
   "outputs": [],
   "source": [
    "import os\n",
    "import numpy as np\n",
    "import torch\n",
    "import torch.nn as nn\n",
    "import torch.optim as optim\n",
    "import torch.nn.functional as F\n",
    "from torch.utils.data import Dataset, DataLoader, WeightedRandomSampler, random_split\n",
    "import torch.optim as optim\n",
    "from torch.optim.lr_scheduler import StepLR, ReduceLROnPlateau\n",
    "from sklearn.metrics import accuracy_score\n",
    "from torchvision import datasets, transforms\n",
    "from torch.cuda.amp import autocast, GradScaler\n",
    "from torch.utils.data import RandomSampler\n",
    "import matplotlib.pyplot as plt\n",
    "from mpl_toolkits.mplot3d import Axes3D\n",
    "import pandas as pd"
   ]
  },
  {
   "cell_type": "code",
   "execution_count": 18,
   "id": "0bf3c664-f2c1-464b-98b8-f4cba7e8f5a2",
   "metadata": {},
   "outputs": [],
   "source": [
    "# Data augmentation functions\n",
    "def rotate_point_cloud(points):\n",
    "    \"\"\"Rotate the point cloud around the z-axis.\"\"\"\n",
    "    angle = np.random.uniform(0, 2 * np.pi)\n",
    "    cos_val = np.cos(angle)\n",
    "    sin_val = np.sin(angle)\n",
    "    rotation_matrix = np.array([\n",
    "        [cos_val, -sin_val, 0],\n",
    "        [sin_val, cos_val, 0],\n",
    "        [0, 0, 1]\n",
    "    ])\n",
    "    rotated_points = np.dot(points, rotation_matrix.T)\n",
    "    return rotated_points\n",
    "\n",
    "def translate_point_cloud(points):\n",
    "    \"\"\"Translate the point cloud by a small random vector.\"\"\"\n",
    "    translation_vector = np.random.uniform(-0.2, 0.2, size=(1, 3))\n",
    "    translated_points = points + translation_vector\n",
    "    return translated_points\n",
    "\n",
    "def scale_point_cloud(points):\n",
    "    \"\"\"Scale the point cloud by a random factor.\"\"\"\n",
    "    scale_factor = np.random.uniform(0.8, 1.2)\n",
    "    scaled_points = points * scale_factor\n",
    "    return scaled_points\n",
    "\n",
    "def jitter_point_cloud(points):\n",
    "    \"\"\"Add Gaussian noise to the point cloud.\"\"\"\n",
    "    noise = np.random.normal(0, 0.01, points.shape)\n",
    "    jittered_points = points + noise\n",
    "    return jittered_points\n",
    "\n",
    "def augment_point_cloud(points):\n",
    "    points = rotate_point_cloud(points)\n",
    "    points = translate_point_cloud(points)\n",
    "    points = scale_point_cloud(points)\n",
    "    points = jitter_point_cloud(points)\n",
    "    return points"
   ]
  },
  {
   "cell_type": "code",
   "execution_count": 19,
   "id": "f509a551-6381-466d-b0fe-4d6b43d31625",
   "metadata": {},
   "outputs": [],
   "source": [
    "\n",
    "\n",
    "def normalize_point_cloud(points):\n",
    "    \"\"\"Normalize the point cloud.\"\"\"\n",
    "    centroid = np.mean(points, axis=0)\n",
    "    points -= centroid\n",
    "    max_dist = np.max(np.sqrt(np.sum(points**2, axis=1)))\n",
    "    points /= max_dist\n",
    "    return points\n",
    "\n",
    "class PointCloudDataset(Dataset):\n",
    "    def __init__(self, data_dir, augment=False):\n",
    "        self.data_dir = data_dir\n",
    "        self.files = [f for f in os.listdir(data_dir) if f.endswith('.npy')]\n",
    "        self.augment = augment\n",
    "\n",
    "    def __len__(self):\n",
    "        return len(self.files)\n",
    "\n",
    "    def __getitem__(self, idx):\n",
    "        file_path = os.path.join(self.data_dir, self.files[idx])\n",
    "        data = np.load(file_path)\n",
    "        points = data[:, :3]  \n",
    "        labels = data[:, 3]   \n",
    "        \n",
    "        if self.augment:\n",
    "            points = augment_point_cloud(points)\n",
    "            \n",
    "        \n",
    "        points = normalize_point_cloud(points)\n",
    "        \n",
    "        \n",
    "        points = torch.FloatTensor(points)\n",
    "        labels = torch.FloatTensor(labels)  # Convert labels to float for BCELoss\n",
    "        \n",
    "        return points, labels\n",
    "\n",
    "\n",
    "\n",
    "def collate_fn(batch):\n",
    " \n",
    "    max_points = min(1024, max(item[0].size(0) for item in batch))  # Limit to 1024 points\n",
    "\n",
    "    padded_points = []\n",
    "    padded_labels = []\n",
    "\n",
    "    for points, labels in batch:\n",
    "        \n",
    "        if points.size(0) > max_points:\n",
    "            points = points[:max_points]\n",
    "            labels = labels[:max_points]\n",
    "        \n",
    "        \n",
    "        pad_size = max_points - points.size(0)\n",
    "        \n",
    "   \n",
    "        padded = torch.nn.functional.pad(points, (0, 0, 0, pad_size)) \n",
    "        padded_points.append(padded)\n",
    "        \n",
    "\n",
    "        padded_label = torch.cat((labels, torch.zeros(pad_size)))\n",
    "        padded_labels.append(padded_label)\n",
    "\n",
    "\n",
    "    return torch.stack(padded_points), torch.stack(padded_labels)"
   ]
  },
  {
   "cell_type": "code",
   "execution_count": 20,
   "id": "cbd17182-25e4-4de8-8b39-c5c99784a904",
   "metadata": {},
   "outputs": [],
   "source": [
    "import torch\n",
    "import torch.nn as nn\n",
    "\n",
    "class PointNetPlusPlus(nn.Module):\n",
    "    def __init__(self):\n",
    "        super(PointNetPlusPlus, self).__init__()\n",
    "\n",
    "        # First MLP block with dropout\n",
    "        self.mlp1 = nn.Sequential(\n",
    "            nn.Linear(3, 128),\n",
    "            nn.ReLU(),\n",
    "            nn.Dropout(0.5),\n",
    "            nn.Linear(128, 256),\n",
    "            nn.ReLU(),\n",
    "            nn.Dropout(0.5),\n",
    "            nn.Linear(256, 512),\n",
    "            nn.ReLU(),\n",
    "            nn.Dropout(0.5)\n",
    "        )\n",
    "\n",
    "        self.bn1 = nn.BatchNorm1d(512)  \n",
    "\n",
    "       \n",
    "        self.residual1 = nn.Linear(3, 512) \n",
    "\n",
    "       \n",
    "        self.abstraction = nn.Sequential(\n",
    "            nn.Linear(512, 256),\n",
    "            nn.ReLU(),\n",
    "            nn.Linear(256, 128),\n",
    "            nn.ReLU()\n",
    "        )\n",
    "\n",
    "        self.mlp2 = nn.Sequential(\n",
    "            nn.Linear(128, 256),\n",
    "            nn.ReLU(),\n",
    "            nn.Dropout(0.5),\n",
    "            nn.Linear(256, 256),\n",
    "            nn.ReLU(),\n",
    "            nn.Dropout(0.5),\n",
    "            nn.Linear(256, 128),\n",
    "            nn.ReLU(),\n",
    "            nn.Linear(128, 1)  \n",
    "        )\n",
    "\n",
    "       \n",
    "        self.residual2 = nn.Linear(128, 1) \n",
    "\n",
    "        self.mlp3 = nn.Sequential(\n",
    "            nn.Linear(1, 128),\n",
    "            nn.ReLU(),\n",
    "            nn.Dropout(0.5),\n",
    "            nn.Linear(128, 256),\n",
    "            nn.ReLU(),\n",
    "            nn.Dropout(0.5),\n",
    "            nn.Linear(256, 128),\n",
    "            nn.ReLU(),\n",
    "            nn.Linear(128, 1) \n",
    "        )\n",
    "        \n",
    "       \n",
    "        self.residual3 = nn.Linear(1, 1)  \n",
    "\n",
    "    def forward(self, x):\n",
    "        # Apply the first MLP\n",
    "        identity1 = self.residual1(x)\n",
    "        x = self.mlp1(x)\n",
    "        x = x + identity1\n",
    "\n",
    "        # Apply the second MLP with residual connection\n",
    "        x = self.abstraction(x)\n",
    "        identity2 = self.residual2(x)\n",
    "        x = self.mlp2(x)\n",
    "        x = x + identity2\n",
    "\n",
    "        # Apply the third MLP with residual connection\n",
    "        identity3 = self.residual3(x)\n",
    "        x = self.mlp3(x)\n",
    "        x = x + identity3\n",
    "\n",
    "        # Final output\n",
    "        return x.squeeze(-1) \n"
   ]
  },
  {
   "cell_type": "code",
   "execution_count": 21,
   "id": "cc3206ab",
   "metadata": {},
   "outputs": [
    {
     "name": "stdout",
     "output_type": "stream",
     "text": [
      "Extracted data to /home/jovyan/RnD/dataset_npy\n"
     ]
    }
   ],
   "source": [
    "import zipfile\n",
    "import os\n",
    "\n",
    "# Define the path to your zip file and the extraction directory\n",
    "zip_file_path = '/home/jovyan/RnD/dataset_npy.zip'\n",
    "extract_dir = '/home/jovyan/RnD/dataset_npy'  # Folder where data will be extracted\n",
    "\n",
    "# Check if the extraction directory exists, if not, create it\n",
    "if not os.path.exists(extract_dir):\n",
    "    os.makedirs(extract_dir)\n",
    "\n",
    "# Extract the zip file\n",
    "with zipfile.ZipFile(zip_file_path, 'r') as zip_ref:\n",
    "    zip_ref.extractall(extract_dir)\n",
    "\n",
    "print(f\"Extracted data to {extract_dir}\")"
   ]
  },
  {
   "cell_type": "code",
   "execution_count": 22,
   "id": "3d9e9fcf-8555-4300-b21c-20bdc7863bbb",
   "metadata": {
    "scrolled": true
   },
   "outputs": [
    {
     "name": "stdout",
     "output_type": "stream",
     "text": [
      "Epoch 1/100\n"
     ]
    },
    {
     "name": "stderr",
     "output_type": "stream",
     "text": [
      "Training:   0%|          | 0/19 [00:00<?, ?it/s]"
     ]
    },
    {
     "name": "stderr",
     "output_type": "stream",
     "text": [
      "                                                            \r"
     ]
    },
    {
     "name": "stdout",
     "output_type": "stream",
     "text": [
      "Train Loss: 0.6172, Val Loss: 0.5619, Val Accuracy: 0.7494\n",
      "Saved the best model!\n",
      "Epoch 2/100\n"
     ]
    },
    {
     "name": "stderr",
     "output_type": "stream",
     "text": [
      "                                                            \r"
     ]
    },
    {
     "name": "stdout",
     "output_type": "stream",
     "text": [
      "Train Loss: 0.5605, Val Loss: 0.5394, Val Accuracy: 0.7494\n",
      "Saved the best model!\n",
      "Epoch 3/100\n"
     ]
    },
    {
     "name": "stderr",
     "output_type": "stream",
     "text": [
      "                                                            \r"
     ]
    },
    {
     "name": "stdout",
     "output_type": "stream",
     "text": [
      "Train Loss: 0.5201, Val Loss: 0.3732, Val Accuracy: 0.8535\n",
      "Saved the best model!\n",
      "Epoch 4/100\n"
     ]
    },
    {
     "name": "stderr",
     "output_type": "stream",
     "text": [
      "                                                            \r"
     ]
    },
    {
     "name": "stdout",
     "output_type": "stream",
     "text": [
      "Train Loss: 0.4690, Val Loss: 0.3576, Val Accuracy: 0.8451\n",
      "Saved the best model!\n",
      "Epoch 5/100\n"
     ]
    },
    {
     "name": "stderr",
     "output_type": "stream",
     "text": [
      "                                                            \r"
     ]
    },
    {
     "name": "stdout",
     "output_type": "stream",
     "text": [
      "Train Loss: 0.3805, Val Loss: 0.2871, Val Accuracy: 0.8832\n",
      "Saved the best model!\n",
      "Epoch 6/100\n"
     ]
    },
    {
     "name": "stderr",
     "output_type": "stream",
     "text": [
      "                                                            \r"
     ]
    },
    {
     "name": "stdout",
     "output_type": "stream",
     "text": [
      "Train Loss: 0.2201, Val Loss: 0.0982, Val Accuracy: 0.9542\n",
      "Saved the best model!\n",
      "Epoch 7/100\n"
     ]
    },
    {
     "name": "stderr",
     "output_type": "stream",
     "text": [
      "                                                            \r"
     ]
    },
    {
     "name": "stdout",
     "output_type": "stream",
     "text": [
      "Train Loss: 0.2099, Val Loss: 0.1440, Val Accuracy: 0.9586\n",
      "Epoch 8/100\n"
     ]
    },
    {
     "name": "stderr",
     "output_type": "stream",
     "text": [
      "                                                           \r"
     ]
    },
    {
     "name": "stdout",
     "output_type": "stream",
     "text": [
      "Train Loss: 0.1186, Val Loss: 0.0648, Val Accuracy: 0.9757\n",
      "Saved the best model!\n",
      "Epoch 9/100\n"
     ]
    },
    {
     "name": "stderr",
     "output_type": "stream",
     "text": [
      "                                                            \r"
     ]
    },
    {
     "name": "stdout",
     "output_type": "stream",
     "text": [
      "Train Loss: 0.0776, Val Loss: 0.0869, Val Accuracy: 0.9616\n",
      "Epoch 10/100\n"
     ]
    },
    {
     "name": "stderr",
     "output_type": "stream",
     "text": [
      "                                                            \r"
     ]
    },
    {
     "name": "stdout",
     "output_type": "stream",
     "text": [
      "Train Loss: 0.0782, Val Loss: 0.1000, Val Accuracy: 0.9521\n",
      "Epoch 11/100\n"
     ]
    },
    {
     "name": "stderr",
     "output_type": "stream",
     "text": [
      "                                                           \r"
     ]
    },
    {
     "name": "stdout",
     "output_type": "stream",
     "text": [
      "Train Loss: 0.1032, Val Loss: 0.0710, Val Accuracy: 0.9728\n",
      "Epoch 12/100\n"
     ]
    },
    {
     "name": "stderr",
     "output_type": "stream",
     "text": [
      "                                                            \r"
     ]
    },
    {
     "name": "stdout",
     "output_type": "stream",
     "text": [
      "Train Loss: 0.0561, Val Loss: 0.0604, Val Accuracy: 0.9725\n",
      "Saved the best model!\n",
      "Epoch 13/100\n"
     ]
    },
    {
     "name": "stderr",
     "output_type": "stream",
     "text": [
      "                                                            \r"
     ]
    },
    {
     "name": "stdout",
     "output_type": "stream",
     "text": [
      "Train Loss: 0.0804, Val Loss: 0.0567, Val Accuracy: 0.9777\n",
      "Saved the best model!\n",
      "Epoch 14/100\n"
     ]
    },
    {
     "name": "stderr",
     "output_type": "stream",
     "text": [
      "                                                            \r"
     ]
    },
    {
     "name": "stdout",
     "output_type": "stream",
     "text": [
      "Train Loss: 0.0479, Val Loss: 0.0460, Val Accuracy: 0.9767\n",
      "Saved the best model!\n",
      "Epoch 15/100\n"
     ]
    },
    {
     "name": "stderr",
     "output_type": "stream",
     "text": [
      "                                                            \r"
     ]
    },
    {
     "name": "stdout",
     "output_type": "stream",
     "text": [
      "Train Loss: 0.0788, Val Loss: 0.0867, Val Accuracy: 0.9532\n",
      "Epoch 16/100\n"
     ]
    },
    {
     "name": "stderr",
     "output_type": "stream",
     "text": [
      "                                                            \r"
     ]
    },
    {
     "name": "stdout",
     "output_type": "stream",
     "text": [
      "Train Loss: 0.0654, Val Loss: 0.0516, Val Accuracy: 0.9761\n",
      "Epoch 17/100\n"
     ]
    },
    {
     "name": "stderr",
     "output_type": "stream",
     "text": [
      "                                                            \r"
     ]
    },
    {
     "name": "stdout",
     "output_type": "stream",
     "text": [
      "Train Loss: 0.0394, Val Loss: 0.0245, Val Accuracy: 0.9918\n",
      "Saved the best model!\n",
      "Epoch 18/100\n"
     ]
    },
    {
     "name": "stderr",
     "output_type": "stream",
     "text": [
      "                                                            \r"
     ]
    },
    {
     "name": "stdout",
     "output_type": "stream",
     "text": [
      "Train Loss: 0.0780, Val Loss: 0.0490, Val Accuracy: 0.9902\n",
      "Epoch 19/100\n"
     ]
    },
    {
     "name": "stderr",
     "output_type": "stream",
     "text": [
      "                                                            \r"
     ]
    },
    {
     "name": "stdout",
     "output_type": "stream",
     "text": [
      "Train Loss: 0.0426, Val Loss: 0.0292, Val Accuracy: 0.9911\n",
      "Epoch 20/100\n"
     ]
    },
    {
     "name": "stderr",
     "output_type": "stream",
     "text": [
      "                                                            \r"
     ]
    },
    {
     "name": "stdout",
     "output_type": "stream",
     "text": [
      "Train Loss: 0.0509, Val Loss: 0.0995, Val Accuracy: 0.9622\n",
      "Epoch 21/100\n"
     ]
    },
    {
     "name": "stderr",
     "output_type": "stream",
     "text": [
      "                                                            \r"
     ]
    },
    {
     "name": "stdout",
     "output_type": "stream",
     "text": [
      "Train Loss: 0.0662, Val Loss: 0.0447, Val Accuracy: 0.9863\n",
      "Epoch 22/100\n"
     ]
    },
    {
     "name": "stderr",
     "output_type": "stream",
     "text": [
      "                                                          \r"
     ]
    },
    {
     "name": "stdout",
     "output_type": "stream",
     "text": [
      "Train Loss: 0.0406, Val Loss: 0.0274, Val Accuracy: 0.9927\n",
      "Epoch 23/100\n"
     ]
    },
    {
     "name": "stderr",
     "output_type": "stream",
     "text": [
      "                                                            \r"
     ]
    },
    {
     "name": "stdout",
     "output_type": "stream",
     "text": [
      "Train Loss: 0.0309, Val Loss: 0.0261, Val Accuracy: 0.9889\n",
      "Epoch 24/100\n"
     ]
    },
    {
     "name": "stderr",
     "output_type": "stream",
     "text": [
      "                                                            \r"
     ]
    },
    {
     "name": "stdout",
     "output_type": "stream",
     "text": [
      "Train Loss: 0.0308, Val Loss: 0.0273, Val Accuracy: 0.9883\n",
      "Epoch 25/100\n"
     ]
    },
    {
     "name": "stderr",
     "output_type": "stream",
     "text": [
      "                                                            \r"
     ]
    },
    {
     "name": "stdout",
     "output_type": "stream",
     "text": [
      "Train Loss: 0.0352, Val Loss: 0.0272, Val Accuracy: 0.9891\n",
      "Epoch 26/100\n"
     ]
    },
    {
     "name": "stderr",
     "output_type": "stream",
     "text": [
      "                                                            \r"
     ]
    },
    {
     "name": "stdout",
     "output_type": "stream",
     "text": [
      "Train Loss: 0.0360, Val Loss: 0.0270, Val Accuracy: 0.9892\n",
      "Epoch 27/100\n"
     ]
    },
    {
     "name": "stderr",
     "output_type": "stream",
     "text": [
      "                                                            \r"
     ]
    },
    {
     "name": "stdout",
     "output_type": "stream",
     "text": [
      "Train Loss: 0.0351, Val Loss: 0.0318, Val Accuracy: 0.9861\n",
      "Epoch 28/100\n"
     ]
    },
    {
     "name": "stderr",
     "output_type": "stream",
     "text": [
      "                                                            \r"
     ]
    },
    {
     "name": "stdout",
     "output_type": "stream",
     "text": [
      "Train Loss: 0.0273, Val Loss: 0.0203, Val Accuracy: 0.9934\n",
      "Saved the best model!\n",
      "Epoch 29/100\n"
     ]
    },
    {
     "name": "stderr",
     "output_type": "stream",
     "text": [
      "                                                           \r"
     ]
    },
    {
     "name": "stdout",
     "output_type": "stream",
     "text": [
      "Train Loss: 0.0302, Val Loss: 0.0255, Val Accuracy: 0.9888\n",
      "Epoch 30/100\n"
     ]
    },
    {
     "name": "stderr",
     "output_type": "stream",
     "text": [
      "                                                            \r"
     ]
    },
    {
     "name": "stdout",
     "output_type": "stream",
     "text": [
      "Train Loss: 0.0413, Val Loss: 0.0266, Val Accuracy: 0.9933\n",
      "Epoch 31/100\n"
     ]
    },
    {
     "name": "stderr",
     "output_type": "stream",
     "text": [
      "                                                            \r"
     ]
    },
    {
     "name": "stdout",
     "output_type": "stream",
     "text": [
      "Train Loss: 0.0298, Val Loss: 0.0304, Val Accuracy: 0.9846\n",
      "Epoch 32/100\n"
     ]
    },
    {
     "name": "stderr",
     "output_type": "stream",
     "text": [
      "                                                           \r"
     ]
    },
    {
     "name": "stdout",
     "output_type": "stream",
     "text": [
      "Train Loss: 0.0275, Val Loss: 0.0336, Val Accuracy: 0.9825\n",
      "Epoch 33/100\n"
     ]
    },
    {
     "name": "stderr",
     "output_type": "stream",
     "text": [
      "                                                            \r"
     ]
    },
    {
     "name": "stdout",
     "output_type": "stream",
     "text": [
      "Train Loss: 0.0465, Val Loss: 0.0456, Val Accuracy: 0.9797\n",
      "Epoch 34/100\n"
     ]
    },
    {
     "name": "stderr",
     "output_type": "stream",
     "text": [
      "                                                           \r"
     ]
    },
    {
     "name": "stdout",
     "output_type": "stream",
     "text": [
      "Train Loss: 0.0306, Val Loss: 0.0234, Val Accuracy: 0.9924\n",
      "Epoch 35/100\n"
     ]
    },
    {
     "name": "stderr",
     "output_type": "stream",
     "text": [
      "                                                            \r"
     ]
    },
    {
     "name": "stdout",
     "output_type": "stream",
     "text": [
      "Train Loss: 0.0244, Val Loss: 0.0228, Val Accuracy: 0.9910\n",
      "Epoch 36/100\n"
     ]
    },
    {
     "name": "stderr",
     "output_type": "stream",
     "text": [
      "                                                            \r"
     ]
    },
    {
     "name": "stdout",
     "output_type": "stream",
     "text": [
      "Train Loss: 0.0273, Val Loss: 0.0223, Val Accuracy: 0.9913\n",
      "Epoch 37/100\n"
     ]
    },
    {
     "name": "stderr",
     "output_type": "stream",
     "text": [
      "                                                            \r"
     ]
    },
    {
     "name": "stdout",
     "output_type": "stream",
     "text": [
      "Train Loss: 0.0348, Val Loss: 0.0320, Val Accuracy: 0.9832\n",
      "Epoch 38/100\n"
     ]
    },
    {
     "name": "stderr",
     "output_type": "stream",
     "text": [
      "                                                            \r"
     ]
    },
    {
     "name": "stdout",
     "output_type": "stream",
     "text": [
      "Train Loss: 0.0316, Val Loss: 0.0236, Val Accuracy: 0.9906\n",
      "Epoch 39/100\n"
     ]
    },
    {
     "name": "stderr",
     "output_type": "stream",
     "text": [
      "                                                            \r"
     ]
    },
    {
     "name": "stdout",
     "output_type": "stream",
     "text": [
      "Train Loss: 0.0315, Val Loss: 0.0248, Val Accuracy: 0.9907\n",
      "Epoch 40/100\n"
     ]
    },
    {
     "name": "stderr",
     "output_type": "stream",
     "text": [
      "                                                            \r"
     ]
    },
    {
     "name": "stdout",
     "output_type": "stream",
     "text": [
      "Train Loss: 0.0259, Val Loss: 0.0359, Val Accuracy: 0.9849\n",
      "Epoch 41/100\n"
     ]
    },
    {
     "name": "stderr",
     "output_type": "stream",
     "text": [
      "                                                            \r"
     ]
    },
    {
     "name": "stdout",
     "output_type": "stream",
     "text": [
      "Train Loss: 0.0265, Val Loss: 0.0266, Val Accuracy: 0.9865\n",
      "Epoch 42/100\n"
     ]
    },
    {
     "name": "stderr",
     "output_type": "stream",
     "text": [
      "                                                            \r"
     ]
    },
    {
     "name": "stdout",
     "output_type": "stream",
     "text": [
      "Train Loss: 0.0254, Val Loss: 0.0273, Val Accuracy: 0.9888\n",
      "Epoch 43/100\n"
     ]
    },
    {
     "name": "stderr",
     "output_type": "stream",
     "text": [
      "                                                           \r"
     ]
    },
    {
     "name": "stdout",
     "output_type": "stream",
     "text": [
      "Train Loss: 0.0333, Val Loss: 0.0261, Val Accuracy: 0.9872\n",
      "Epoch 44/100\n"
     ]
    },
    {
     "name": "stderr",
     "output_type": "stream",
     "text": [
      "                                                            \r"
     ]
    },
    {
     "name": "stdout",
     "output_type": "stream",
     "text": [
      "Train Loss: 0.0296, Val Loss: 0.0296, Val Accuracy: 0.9885\n",
      "Epoch 45/100\n"
     ]
    },
    {
     "name": "stderr",
     "output_type": "stream",
     "text": [
      "                                                            \r"
     ]
    },
    {
     "name": "stdout",
     "output_type": "stream",
     "text": [
      "Train Loss: 0.0250, Val Loss: 0.0205, Val Accuracy: 0.9930\n",
      "Epoch 46/100\n"
     ]
    },
    {
     "name": "stderr",
     "output_type": "stream",
     "text": [
      "                                                           \r"
     ]
    },
    {
     "name": "stdout",
     "output_type": "stream",
     "text": [
      "Train Loss: 0.0228, Val Loss: 0.0184, Val Accuracy: 0.9930\n",
      "Saved the best model!\n",
      "Epoch 47/100\n"
     ]
    },
    {
     "name": "stderr",
     "output_type": "stream",
     "text": [
      "                                                           \r"
     ]
    },
    {
     "name": "stdout",
     "output_type": "stream",
     "text": [
      "Train Loss: 0.0224, Val Loss: 0.0334, Val Accuracy: 0.9829\n",
      "Epoch 48/100\n"
     ]
    },
    {
     "name": "stderr",
     "output_type": "stream",
     "text": [
      "                                                            \r"
     ]
    },
    {
     "name": "stdout",
     "output_type": "stream",
     "text": [
      "Train Loss: 0.0241, Val Loss: 0.0184, Val Accuracy: 0.9928\n",
      "Epoch 49/100\n"
     ]
    },
    {
     "name": "stderr",
     "output_type": "stream",
     "text": [
      "                                                           \r"
     ]
    },
    {
     "name": "stdout",
     "output_type": "stream",
     "text": [
      "Train Loss: 0.0265, Val Loss: 0.0289, Val Accuracy: 0.9846\n",
      "Epoch 50/100\n"
     ]
    },
    {
     "name": "stderr",
     "output_type": "stream",
     "text": [
      "                                                            \r"
     ]
    },
    {
     "name": "stdout",
     "output_type": "stream",
     "text": [
      "Train Loss: 0.0218, Val Loss: 0.0330, Val Accuracy: 0.9827\n",
      "Epoch 51/100\n"
     ]
    },
    {
     "name": "stderr",
     "output_type": "stream",
     "text": [
      "                                                            \r"
     ]
    },
    {
     "name": "stdout",
     "output_type": "stream",
     "text": [
      "Train Loss: 0.0239, Val Loss: 0.0270, Val Accuracy: 0.9892\n",
      "Epoch 52/100\n"
     ]
    },
    {
     "name": "stderr",
     "output_type": "stream",
     "text": [
      "                                                            \r"
     ]
    },
    {
     "name": "stdout",
     "output_type": "stream",
     "text": [
      "Train Loss: 0.0265, Val Loss: 0.0220, Val Accuracy: 0.9894\n",
      "Epoch 53/100\n"
     ]
    },
    {
     "name": "stderr",
     "output_type": "stream",
     "text": [
      "                                                            \r"
     ]
    },
    {
     "name": "stdout",
     "output_type": "stream",
     "text": [
      "Train Loss: 0.0215, Val Loss: 0.0215, Val Accuracy: 0.9895\n",
      "Epoch 54/100\n"
     ]
    },
    {
     "name": "stderr",
     "output_type": "stream",
     "text": [
      "                                                            \r"
     ]
    },
    {
     "name": "stdout",
     "output_type": "stream",
     "text": [
      "Train Loss: 0.0233, Val Loss: 0.0183, Val Accuracy: 0.9929\n",
      "Saved the best model!\n",
      "Epoch 55/100\n"
     ]
    },
    {
     "name": "stderr",
     "output_type": "stream",
     "text": [
      "                                                            \r"
     ]
    },
    {
     "name": "stdout",
     "output_type": "stream",
     "text": [
      "Train Loss: 0.0245, Val Loss: 0.0403, Val Accuracy: 0.9784\n",
      "Epoch 56/100\n"
     ]
    },
    {
     "name": "stderr",
     "output_type": "stream",
     "text": [
      "                                                            \r"
     ]
    },
    {
     "name": "stdout",
     "output_type": "stream",
     "text": [
      "Train Loss: 0.0280, Val Loss: 0.0214, Val Accuracy: 0.9906\n",
      "Epoch 57/100\n"
     ]
    },
    {
     "name": "stderr",
     "output_type": "stream",
     "text": [
      "                                                            \r"
     ]
    },
    {
     "name": "stdout",
     "output_type": "stream",
     "text": [
      "Train Loss: 0.0219, Val Loss: 0.0206, Val Accuracy: 0.9906\n",
      "Epoch 58/100\n"
     ]
    },
    {
     "name": "stderr",
     "output_type": "stream",
     "text": [
      "                                                            \r"
     ]
    },
    {
     "name": "stdout",
     "output_type": "stream",
     "text": [
      "Train Loss: 0.0277, Val Loss: 0.0221, Val Accuracy: 0.9895\n",
      "Epoch 59/100\n"
     ]
    },
    {
     "name": "stderr",
     "output_type": "stream",
     "text": [
      "                                                           \r"
     ]
    },
    {
     "name": "stdout",
     "output_type": "stream",
     "text": [
      "Train Loss: 0.0241, Val Loss: 0.0413, Val Accuracy: 0.9846\n",
      "Epoch 60/100\n"
     ]
    },
    {
     "name": "stderr",
     "output_type": "stream",
     "text": [
      "                                                            \r"
     ]
    },
    {
     "name": "stdout",
     "output_type": "stream",
     "text": [
      "Train Loss: 0.0262, Val Loss: 0.0337, Val Accuracy: 0.9810\n",
      "Epoch 61/100\n"
     ]
    },
    {
     "name": "stderr",
     "output_type": "stream",
     "text": [
      "                                                           \r"
     ]
    },
    {
     "name": "stdout",
     "output_type": "stream",
     "text": [
      "Train Loss: 0.0217, Val Loss: 0.0187, Val Accuracy: 0.9929\n",
      "Epoch 62/100\n"
     ]
    },
    {
     "name": "stderr",
     "output_type": "stream",
     "text": [
      "                                                            \r"
     ]
    },
    {
     "name": "stdout",
     "output_type": "stream",
     "text": [
      "Train Loss: 0.0213, Val Loss: 0.0174, Val Accuracy: 0.9924\n",
      "Saved the best model!\n",
      "Epoch 63/100\n"
     ]
    },
    {
     "name": "stderr",
     "output_type": "stream",
     "text": [
      "                                                           \r"
     ]
    },
    {
     "name": "stdout",
     "output_type": "stream",
     "text": [
      "Train Loss: 0.0223, Val Loss: 0.0182, Val Accuracy: 0.9929\n",
      "Epoch 64/100\n"
     ]
    },
    {
     "name": "stderr",
     "output_type": "stream",
     "text": [
      "                                                            \r"
     ]
    },
    {
     "name": "stdout",
     "output_type": "stream",
     "text": [
      "Train Loss: 0.0191, Val Loss: 0.0170, Val Accuracy: 0.9934\n",
      "Saved the best model!\n",
      "Epoch 65/100\n"
     ]
    },
    {
     "name": "stderr",
     "output_type": "stream",
     "text": [
      "                                                            \r"
     ]
    },
    {
     "name": "stdout",
     "output_type": "stream",
     "text": [
      "Train Loss: 0.0238, Val Loss: 0.0226, Val Accuracy: 0.9913\n",
      "Epoch 66/100\n"
     ]
    },
    {
     "name": "stderr",
     "output_type": "stream",
     "text": [
      "                                                            \r"
     ]
    },
    {
     "name": "stdout",
     "output_type": "stream",
     "text": [
      "Train Loss: 0.0231, Val Loss: 0.0255, Val Accuracy: 0.9901\n",
      "Epoch 67/100\n"
     ]
    },
    {
     "name": "stderr",
     "output_type": "stream",
     "text": [
      "                                                           \r"
     ]
    },
    {
     "name": "stdout",
     "output_type": "stream",
     "text": [
      "Train Loss: 0.0217, Val Loss: 0.0182, Val Accuracy: 0.9918\n",
      "Epoch 68/100\n"
     ]
    },
    {
     "name": "stderr",
     "output_type": "stream",
     "text": [
      "                                                            \r"
     ]
    },
    {
     "name": "stdout",
     "output_type": "stream",
     "text": [
      "Train Loss: 0.0219, Val Loss: 0.0267, Val Accuracy: 0.9852\n",
      "Epoch 69/100\n"
     ]
    },
    {
     "name": "stderr",
     "output_type": "stream",
     "text": [
      "                                                            \r"
     ]
    },
    {
     "name": "stdout",
     "output_type": "stream",
     "text": [
      "Train Loss: 0.0205, Val Loss: 0.0190, Val Accuracy: 0.9927\n",
      "Epoch 70/100\n"
     ]
    },
    {
     "name": "stderr",
     "output_type": "stream",
     "text": [
      "                                                            \r"
     ]
    },
    {
     "name": "stdout",
     "output_type": "stream",
     "text": [
      "Train Loss: 0.0210, Val Loss: 0.0161, Val Accuracy: 0.9933\n",
      "Saved the best model!\n",
      "Epoch 71/100\n"
     ]
    },
    {
     "name": "stderr",
     "output_type": "stream",
     "text": [
      "                                                            \r"
     ]
    },
    {
     "name": "stdout",
     "output_type": "stream",
     "text": [
      "Train Loss: 0.0205, Val Loss: 0.0192, Val Accuracy: 0.9927\n",
      "Epoch 72/100\n"
     ]
    },
    {
     "name": "stderr",
     "output_type": "stream",
     "text": [
      "                                                          \r"
     ]
    },
    {
     "name": "stdout",
     "output_type": "stream",
     "text": [
      "Train Loss: 0.0193, Val Loss: 0.0158, Val Accuracy: 0.9936\n",
      "Saved the best model!\n",
      "Epoch 73/100\n"
     ]
    },
    {
     "name": "stderr",
     "output_type": "stream",
     "text": [
      "                                                           \r"
     ]
    },
    {
     "name": "stdout",
     "output_type": "stream",
     "text": [
      "Train Loss: 0.0221, Val Loss: 0.0187, Val Accuracy: 0.9909\n",
      "Epoch 74/100\n"
     ]
    },
    {
     "name": "stderr",
     "output_type": "stream",
     "text": [
      "                                                           \r"
     ]
    },
    {
     "name": "stdout",
     "output_type": "stream",
     "text": [
      "Train Loss: 0.0190, Val Loss: 0.0210, Val Accuracy: 0.9890\n",
      "Epoch 75/100\n"
     ]
    },
    {
     "name": "stderr",
     "output_type": "stream",
     "text": [
      "                                                            \r"
     ]
    },
    {
     "name": "stdout",
     "output_type": "stream",
     "text": [
      "Train Loss: 0.0211, Val Loss: 0.0193, Val Accuracy: 0.9901\n",
      "Epoch 76/100\n"
     ]
    },
    {
     "name": "stderr",
     "output_type": "stream",
     "text": [
      "                                                            \r"
     ]
    },
    {
     "name": "stdout",
     "output_type": "stream",
     "text": [
      "Train Loss: 0.0267, Val Loss: 0.0203, Val Accuracy: 0.9906\n",
      "Epoch 77/100\n"
     ]
    },
    {
     "name": "stderr",
     "output_type": "stream",
     "text": [
      "                                                           \r"
     ]
    },
    {
     "name": "stdout",
     "output_type": "stream",
     "text": [
      "Train Loss: 0.0238, Val Loss: 0.0253, Val Accuracy: 0.9901\n",
      "Epoch 78/100\n"
     ]
    },
    {
     "name": "stderr",
     "output_type": "stream",
     "text": [
      "                                                          \r"
     ]
    },
    {
     "name": "stdout",
     "output_type": "stream",
     "text": [
      "Train Loss: 0.0211, Val Loss: 0.0273, Val Accuracy: 0.9847\n",
      "Epoch 79/100\n"
     ]
    },
    {
     "name": "stderr",
     "output_type": "stream",
     "text": [
      "                                                            \r"
     ]
    },
    {
     "name": "stdout",
     "output_type": "stream",
     "text": [
      "Train Loss: 0.0252, Val Loss: 0.0182, Val Accuracy: 0.9933\n",
      "Epoch 80/100\n"
     ]
    },
    {
     "name": "stderr",
     "output_type": "stream",
     "text": [
      "                                                            \r"
     ]
    },
    {
     "name": "stdout",
     "output_type": "stream",
     "text": [
      "Train Loss: 0.0226, Val Loss: 0.0183, Val Accuracy: 0.9924\n",
      "Epoch 81/100\n"
     ]
    },
    {
     "name": "stderr",
     "output_type": "stream",
     "text": [
      "                                                            \r"
     ]
    },
    {
     "name": "stdout",
     "output_type": "stream",
     "text": [
      "Train Loss: 0.0239, Val Loss: 0.0254, Val Accuracy: 0.9900\n",
      "Epoch 82/100\n"
     ]
    },
    {
     "name": "stderr",
     "output_type": "stream",
     "text": [
      "                                                            \r"
     ]
    },
    {
     "name": "stdout",
     "output_type": "stream",
     "text": [
      "Train Loss: 0.0234, Val Loss: 0.0181, Val Accuracy: 0.9923\n",
      "Epoch 83/100\n"
     ]
    },
    {
     "name": "stderr",
     "output_type": "stream",
     "text": [
      "                                                            \r"
     ]
    },
    {
     "name": "stdout",
     "output_type": "stream",
     "text": [
      "Train Loss: 0.0190, Val Loss: 0.0199, Val Accuracy: 0.9897\n",
      "Epoch 84/100\n"
     ]
    },
    {
     "name": "stderr",
     "output_type": "stream",
     "text": [
      "                                                            \r"
     ]
    },
    {
     "name": "stdout",
     "output_type": "stream",
     "text": [
      "Train Loss: 0.0194, Val Loss: 0.0188, Val Accuracy: 0.9904\n",
      "Epoch 85/100\n"
     ]
    },
    {
     "name": "stderr",
     "output_type": "stream",
     "text": [
      "                                                            \r"
     ]
    },
    {
     "name": "stdout",
     "output_type": "stream",
     "text": [
      "Train Loss: 0.0199, Val Loss: 0.0194, Val Accuracy: 0.9926\n",
      "Epoch 86/100\n"
     ]
    },
    {
     "name": "stderr",
     "output_type": "stream",
     "text": [
      "                                                           \r"
     ]
    },
    {
     "name": "stdout",
     "output_type": "stream",
     "text": [
      "Train Loss: 0.0239, Val Loss: 0.0164, Val Accuracy: 0.9937\n",
      "Epoch 87/100\n"
     ]
    },
    {
     "name": "stderr",
     "output_type": "stream",
     "text": [
      "                                                           \r"
     ]
    },
    {
     "name": "stdout",
     "output_type": "stream",
     "text": [
      "Train Loss: 0.0210, Val Loss: 0.0176, Val Accuracy: 0.9924\n",
      "Epoch 88/100\n"
     ]
    },
    {
     "name": "stderr",
     "output_type": "stream",
     "text": [
      "                                                           \r"
     ]
    },
    {
     "name": "stdout",
     "output_type": "stream",
     "text": [
      "Train Loss: 0.0185, Val Loss: 0.0204, Val Accuracy: 0.9893\n",
      "Epoch 89/100\n"
     ]
    },
    {
     "name": "stderr",
     "output_type": "stream",
     "text": [
      "                                                            \r"
     ]
    },
    {
     "name": "stdout",
     "output_type": "stream",
     "text": [
      "Train Loss: 0.0189, Val Loss: 0.0221, Val Accuracy: 0.9884\n",
      "Epoch 90/100\n"
     ]
    },
    {
     "name": "stderr",
     "output_type": "stream",
     "text": [
      "                                                            \r"
     ]
    },
    {
     "name": "stdout",
     "output_type": "stream",
     "text": [
      "Train Loss: 0.0184, Val Loss: 0.0201, Val Accuracy: 0.9896\n",
      "Epoch 91/100\n"
     ]
    },
    {
     "name": "stderr",
     "output_type": "stream",
     "text": [
      "                                                            \r"
     ]
    },
    {
     "name": "stdout",
     "output_type": "stream",
     "text": [
      "Train Loss: 0.0246, Val Loss: 0.0260, Val Accuracy: 0.9899\n",
      "Epoch 92/100\n"
     ]
    },
    {
     "name": "stderr",
     "output_type": "stream",
     "text": [
      "                                                            \r"
     ]
    },
    {
     "name": "stdout",
     "output_type": "stream",
     "text": [
      "Train Loss: 0.0223, Val Loss: 0.0211, Val Accuracy: 0.9920\n",
      "Epoch 93/100\n"
     ]
    },
    {
     "name": "stderr",
     "output_type": "stream",
     "text": [
      "                                                           \r"
     ]
    },
    {
     "name": "stdout",
     "output_type": "stream",
     "text": [
      "Train Loss: 0.0220, Val Loss: 0.0196, Val Accuracy: 0.9927\n",
      "Epoch 94/100\n"
     ]
    },
    {
     "name": "stderr",
     "output_type": "stream",
     "text": [
      "                                                            \r"
     ]
    },
    {
     "name": "stdout",
     "output_type": "stream",
     "text": [
      "Train Loss: 0.0216, Val Loss: 0.0166, Val Accuracy: 0.9930\n",
      "Epoch 95/100\n"
     ]
    },
    {
     "name": "stderr",
     "output_type": "stream",
     "text": [
      "                                                            \r"
     ]
    },
    {
     "name": "stdout",
     "output_type": "stream",
     "text": [
      "Train Loss: 0.0224, Val Loss: 0.0194, Val Accuracy: 0.9903\n",
      "Epoch 96/100\n"
     ]
    },
    {
     "name": "stderr",
     "output_type": "stream",
     "text": [
      "                                                            \r"
     ]
    },
    {
     "name": "stdout",
     "output_type": "stream",
     "text": [
      "Train Loss: 0.0266, Val Loss: 0.0284, Val Accuracy: 0.9885\n",
      "Epoch 97/100\n"
     ]
    },
    {
     "name": "stderr",
     "output_type": "stream",
     "text": [
      "                                                            \r"
     ]
    },
    {
     "name": "stdout",
     "output_type": "stream",
     "text": [
      "Train Loss: 0.0233, Val Loss: 0.0179, Val Accuracy: 0.9935\n",
      "Epoch 98/100\n"
     ]
    },
    {
     "name": "stderr",
     "output_type": "stream",
     "text": [
      "                                                           \r"
     ]
    },
    {
     "name": "stdout",
     "output_type": "stream",
     "text": [
      "Train Loss: 0.0187, Val Loss: 0.0206, Val Accuracy: 0.9893\n",
      "Epoch 99/100\n"
     ]
    },
    {
     "name": "stderr",
     "output_type": "stream",
     "text": [
      "                                                            \r"
     ]
    },
    {
     "name": "stdout",
     "output_type": "stream",
     "text": [
      "Train Loss: 0.0202, Val Loss: 0.0161, Val Accuracy: 0.9936\n",
      "Epoch 100/100\n"
     ]
    },
    {
     "name": "stderr",
     "output_type": "stream",
     "text": [
      "                                                            "
     ]
    },
    {
     "name": "stdout",
     "output_type": "stream",
     "text": [
      "Train Loss: 0.0211, Val Loss: 0.0161, Val Accuracy: 0.9934\n",
      "Training finished!\n"
     ]
    },
    {
     "name": "stderr",
     "output_type": "stream",
     "text": [
      "\r"
     ]
    }
   ],
   "source": [
    "import torch\n",
    "import torch.optim as optim\n",
    "import torch.nn as nn\n",
    "from torch.utils.data import DataLoader\n",
    "from torch.optim.lr_scheduler import StepLR\n",
    "import os\n",
    "import numpy as np\n",
    "import pandas as pd\n",
    "import time\n",
    "from tqdm import tqdm\n",
    "import matplotlib.pyplot as plt\n",
    "\n",
    "data_dir = '/home/jovyan/RnD/dataset_npy/dataset_csf' #provide input directory of the filtered data\n",
    "\n",
    "# Hyperparameters\n",
    "batch_size = 16\n",
    "num_epochs = 100\n",
    "learning_rate = 0.001\n",
    "step_size = 20  \n",
    "gamma = 0.7  \n",
    "device = torch.device('cuda' if torch.cuda.is_available() else 'cpu')\n",
    "\n",
    "# Dataset and DataLoader\n",
    "train_dataset = PointCloudDataset(data_dir=data_dir, augment=True)\n",
    "train_loader = DataLoader(train_dataset, batch_size=batch_size, shuffle=True, collate_fn=collate_fn)\n",
    "\n",
    "val_dataset = PointCloudDataset(data_dir=data_dir, augment=False)\n",
    "val_loader = DataLoader(val_dataset, batch_size=batch_size, shuffle=False, collate_fn=collate_fn)\n",
    "\n",
    "# Model\n",
    "model = PointNetPlusPlus().to(device)\n",
    "\n",
    "\n",
    "criterion = nn.BCEWithLogitsLoss()\n",
    "\n",
    "\n",
    "optimizer = optim.Adam(model.parameters(), lr=learning_rate)\n",
    "\n",
    "\n",
    "scheduler = StepLR(optimizer, step_size=step_size, gamma=gamma)\n",
    "\n",
    "\n",
    "epoch_durations = []\n",
    "train_losses = []\n",
    "\n",
    "\n",
    "start_time = time.time()\n",
    "\n",
    "# Training Loop\n",
    "best_val_loss = float('inf')\n",
    "def train_one_epoch(model, dataloader, optimizer, criterion, device):\n",
    "    model.train()\n",
    "    running_loss = 0.0\n",
    "\n",
    "    for data, labels in tqdm(dataloader, desc=\"Training\", leave=False):\n",
    "        data = data.to(device).float()\n",
    "        labels = labels.to(device).float()  # BCEWithLogitsLoss expects float\n",
    "\n",
    "        optimizer.zero_grad()\n",
    "        outputs = model(data)\n",
    "        loss = criterion(outputs, labels)\n",
    "        loss.backward()\n",
    "        optimizer.step()\n",
    "\n",
    "        running_loss += loss.item() * data.size(0)\n",
    "\n",
    "    epoch_loss = running_loss / len(dataloader.dataset)\n",
    "    return epoch_loss\n",
    "\n",
    "\n",
    "def validate(model, dataloader, criterion, device):\n",
    "    model.eval()\n",
    "    running_loss = 0.0\n",
    "    correct = 0\n",
    "    total = 0\n",
    "\n",
    "    with torch.no_grad():\n",
    "        for data, labels in tqdm(dataloader, desc=\"Validation\", leave=False):\n",
    "            data = data.to(device).float()\n",
    "            labels = labels.to(device).float()\n",
    "\n",
    "            outputs = model(data)\n",
    "            loss = criterion(outputs, labels)\n",
    "            running_loss += loss.item() * data.size(0)\n",
    "\n",
    "            # Compute accuracy (using threshold of 0.5 for BCE)\n",
    "            preds = torch.sigmoid(outputs) > 0.5\n",
    "            correct += (preds == labels.bool()).sum().item()\n",
    "            total += labels.numel()\n",
    "\n",
    "    epoch_loss = running_loss / len(dataloader.dataset)\n",
    "    accuracy = correct / total if total > 0 else 0\n",
    "    return epoch_loss, accuracy\n",
    "for epoch in range(num_epochs):\n",
    "    print(f'Epoch {epoch + 1}/{num_epochs}')\n",
    "    \n",
    "    \n",
    "    epoch_start_time = time.time()\n",
    "    \n",
    "    train_loss = train_one_epoch(model, train_loader, optimizer, criterion, device)\n",
    "    val_loss, val_accuracy = validate(model, val_loader, criterion, device)\n",
    "    \n",
    "    \n",
    "    epoch_duration = time.time() - epoch_start_time\n",
    "    epoch_durations.append(epoch_duration)\n",
    "    train_losses.append(train_loss)\n",
    "    \n",
    "   \n",
    "    scheduler.step()\n",
    "    \n",
    "    print(f'Train Loss: {train_loss:.4f}, Val Loss: {val_loss:.4f}, Val Accuracy: {val_accuracy:.4f}')\n",
    "    \n",
    "    # Save the best model\n",
    "    if val_loss < best_val_loss:\n",
    "        best_val_loss = val_loss\n",
    "        torch.save(model.state_dict(), 'edgesegment_pointnet_model.pth')\n",
    "        print('Saved the best model!')\n",
    "\n",
    "print('Training finished!')\n",
    "\n",
    "\n",
    "elapsed_times = [sum(epoch_durations[:i+1]) for i in range(num_epochs)] \n",
    "df = pd.DataFrame({\n",
    "    'Elapsed Time (s)': elapsed_times,\n",
    "    'Train Loss': train_losses\n",
    "})\n",
    "df.to_csv('training_time_vs_loss.csv', index=False)\n",
    "\n",
    "# # Plot Training Loss vs Elapsed Time\n",
    "# plt.figure(figsize=(10, 6))\n",
    "# plt.plot(elapsed_times, train_losses, label='Training Loss')\n",
    "# plt.xlabel('Elapsed Time (s)')\n",
    "# plt.ylabel('Training Loss')\n",
    "# plt.title('Training Loss vs Elapsed Time')\n",
    "# plt.legend()\n",
    "# plt.grid(True)\n",
    "# plt.savefig('training_loss_vs_time.png')\n",
    "# plt.show()\n"
   ]
  },
  {
   "cell_type": "code",
   "execution_count": 23,
   "id": "aeb9d0fd-89ac-4936-831e-1c4a4a01e621",
   "metadata": {},
   "outputs": [
    {
     "name": "stderr",
     "output_type": "stream",
     "text": [
      "/tmp/ipykernel_26101/3501453223.py:6: FutureWarning: You are using `torch.load` with `weights_only=False` (the current default value), which uses the default pickle module implicitly. It is possible to construct malicious pickle data which will execute arbitrary code during unpickling (See https://github.com/pytorch/pytorch/blob/main/SECURITY.md#untrusted-models for more details). In a future release, the default value for `weights_only` will be flipped to `True`. This limits the functions that could be executed during unpickling. Arbitrary objects will no longer be allowed to be loaded via this mode unless they are explicitly allowlisted by the user via `torch.serialization.add_safe_globals`. We recommend you start setting `weights_only=True` for any use case where you don't have full control of the loaded file. Please open an issue on GitHub for any issues related to this experimental feature.\n",
      "  model.load_state_dict(torch.load('edgesegment_pointnet_model.pth', map_location=device))\n"
     ]
    },
    {
     "name": "stdout",
     "output_type": "stream",
     "text": [
      "Test Accuracy: 34.23%\n"
     ]
    }
   ],
   "source": [
    "import torch\n",
    "import numpy as np\n",
    "from torch.utils.data import DataLoader\n",
    "\n",
    "\n",
    "model.load_state_dict(torch.load('edgesegment_pointnet_model.pth', map_location=device))\n",
    "model.to(device)\n",
    "model.eval()  \n",
    "\n",
    "# Load the test data\n",
    "test_file = '/home/jovyan/RnD/dataset_npy/dataset_csf/chunk_49.npy' #provide appropriate test data location\n",
    "test_data = np.load(test_file)\n",
    "test_points = torch.tensor(test_data[:, :3], dtype=torch.float32) \n",
    "test_labels = torch.tensor(test_data[:, 3], dtype=torch.float32) \n",
    "\n",
    "# Prepare test data loader\n",
    "test_dataset = torch.utils.data.TensorDataset(test_points, test_labels)\n",
    "test_loader = DataLoader(test_dataset, batch_size=batch_size, shuffle=False)\n",
    "\n",
    "# Testing function\n",
    "def test_model(model, test_loader, device):\n",
    "    model.eval()\n",
    "    correct = 0\n",
    "    total = 0\n",
    "    with torch.no_grad():\n",
    "        for points, labels in test_loader:\n",
    "            points, labels = points.to(device), labels.to(device)\n",
    "            \n",
    "            outputs = model(points)\n",
    "            outputs = outputs.squeeze(-1)  # Shape: [batch_size, num_points]\n",
    "            \n",
    "            predicted = torch.round(torch.sigmoid(outputs))  # Apply sigmoid and round to get [0, 1]\n",
    "            correct += (predicted == labels).sum().item()\n",
    "            total += labels.numel()\n",
    "    \n",
    "    accuracy = correct / total\n",
    "    return accuracy\n",
    "\n",
    "# Test the model\n",
    "test_accuracy = test_model(model, test_loader, device)\n",
    "print(f'Test Accuracy: {test_accuracy * 100:.2f}%')\n",
    "\n",
    "\n",
    "# dlrv_project_ws/test_pico_2024-07-04_215824.npy"
   ]
  },
  {
   "cell_type": "code",
   "execution_count": 24,
   "id": "3c362ad6-5700-4d30-880f-a9dbdfdc134f",
   "metadata": {},
   "outputs": [
    {
     "name": "stderr",
     "output_type": "stream",
     "text": [
      "/tmp/ipykernel_26101/1264956244.py:50: FutureWarning: You are using `torch.load` with `weights_only=False` (the current default value), which uses the default pickle module implicitly. It is possible to construct malicious pickle data which will execute arbitrary code during unpickling (See https://github.com/pytorch/pytorch/blob/main/SECURITY.md#untrusted-models for more details). In a future release, the default value for `weights_only` will be flipped to `True`. This limits the functions that could be executed during unpickling. Arbitrary objects will no longer be allowed to be loaded via this mode unless they are explicitly allowlisted by the user via `torch.serialization.add_safe_globals`. We recommend you start setting `weights_only=True` for any use case where you don't have full control of the loaded file. Please open an issue on GitHub for any issues related to this experimental feature.\n",
      "  model.load_state_dict(torch.load('edgesegment_pointnet_model.pth')) #load the model using correct path\n"
     ]
    },
    {
     "name": "stdout",
     "output_type": "stream",
     "text": [
      "Model output shape: torch.Size([1, 2191])\n"
     ]
    },
    {
     "data": {
      "image/png": "[encoded data removed]",
      "text/plain": [
       "<Figure size 640x480 with 1 Axes>"
      ]
     },
     "metadata": {},
     "output_type": "display_data"
    }
   ],
   "source": [
    "# Function to plot the point cloud with predicted edge and non-edge points\n",
    "def plot_point_cloud_with_predictions(points, predictions):\n",
    "    \n",
    "\n",
    "    fig = plt.figure()\n",
    "    ax = fig.add_subplot(111, projection='3d')\n",
    "\n",
    "\n",
    "    if isinstance(predictions, torch.Tensor):\n",
    "        predictions = predictions.cpu().numpy()\n",
    "\n",
    "\n",
    "    if predictions.ndim == 1:\n",
    "        predictions = predictions.reshape(-1)\n",
    "\n",
    "\n",
    "    edges = points[predictions == 1]\n",
    "    non_edges = points[predictions == 0]\n",
    "\n",
    "\n",
    "    ax.scatter(edges[:, 0], edges[:, 1], edges[:, 2], c='r', label='Edge', s=1)\n",
    "\n",
    "\n",
    "    ax.scatter(non_edges[:, 0], non_edges[:, 1], non_edges[:, 2], c='b', label='Non-Edge', s=1)\n",
    "\n",
    "\n",
    "    ax.set_xlabel('X')\n",
    "    ax.set_ylabel('Y')\n",
    "    ax.set_zlabel('Z')\n",
    "    plt.legend()\n",
    "    plt.title(\"Detected Edges (Red) and Non-Edges (Blue)\")\n",
    "    \n",
    "\n",
    "    plt.show()\n",
    "\n",
    "# provide Test point cloud file path\n",
    "test_file = '/home/jovyan/RnD/dataset_npy/dataset_csf/chunk_49.npy'\n",
    "\n",
    "# Load the test point cloud\n",
    "data = np.load(test_file)\n",
    "points = data[:, :3] \n",
    "\n",
    "\n",
    "points = normalize_point_cloud(points)\n",
    "\n",
    "\n",
    "points_tensor = torch.FloatTensor(points).unsqueeze(0).to(device) \n",
    "\n",
    "model = PointNetPlusPlus().to(device)\n",
    "model.load_state_dict(torch.load('edgesegment_pointnet_model.pth')) #load the model using correct path\n",
    "with torch.no_grad():\n",
    "    outputs = model(points_tensor)\n",
    "    print(f\"Model output shape: {outputs.shape}\")\n",
    "    \n",
    "\n",
    "    if outputs.ndimension() == 3:  \n",
    "        outputs = outputs.squeeze(-1)  \n",
    "\n",
    "    predictions = torch.round(torch.sigmoid(outputs)).squeeze()  # [num_points]\n",
    "\n",
    "\n",
    "if predictions.ndimension() == 1:\n",
    "    predictions = predictions.cpu().numpy()\n",
    "else:\n",
    "    predictions = predictions.squeeze().cpu().numpy()\n",
    "\n",
    "\n",
    "# Plot the point cloud with predicted edges and non-edges\n",
    "plot_point_cloud_with_predictions(points, predictions)\n"
   ]
  },
  {
   "cell_type": "code",
   "execution_count": 25,
   "id": "95fadb98-86d3-4a09-9cb1-b54612349b08",
   "metadata": {},
   "outputs": [
    {
     "data": {
      "image/png": "[encoded data removed]",
      "text/plain": [
       "<Figure size 800x600 with 1 Axes>"
      ]
     },
     "metadata": {},
     "output_type": "display_data"
    }
   ],
   "source": [
    "\n",
    "file_path= r'/home/jovyan/RnD/training_time_vs_loss.csv' #provide the correct filepath for the same\n",
    "data = pd.read_csv(file_path)\n",
    "\n",
    "# Plot training loss vs time\n",
    "plt.figure(figsize=(8, 6))\n",
    "plt.plot(data['Elapsed Time (s)'], data['Train Loss'], label='Training Loss', color='blue', marker='o')\n",
    "plt.xlabel('Time (seconds)')\n",
    "plt.ylabel('Training Loss')\n",
    "plt.title('Training Loss vs Time')\n",
    "plt.legend()\n",
    "plt.grid(True)\n",
    "plt.show()"
   ]
  },
  {
   "cell_type": "code",
   "execution_count": null,
   "id": "0422bd61-3880-4946-8667-f735437c8369",
   "metadata": {},
   "outputs": [],
   "source": []
  }
 ],
 "metadata": {
  "kernelspec": {
   "display_name": "Python 3",
   "language": "python",
   "name": "python3"
  },
  "language_info": {
   "codemirror_mode": {
    "name": "ipython",
    "version": 3
   },
   "file_extension": ".py",
   "mimetype": "text/x-python",
   "name": "python",
   "nbconvert_exporter": "python",
   "pygments_lexer": "ipython3",
   "version": "3.11.11"
  }
 },
 "nbformat": 4,
 "nbformat_minor": 5
}
