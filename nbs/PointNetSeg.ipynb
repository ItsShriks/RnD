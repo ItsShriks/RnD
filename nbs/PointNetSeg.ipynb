{
 "cells": [
  {
   "cell_type": "code",
   "execution_count": null,
   "id": "d5a95c89-d332-41b2-b3a6-9af23c67c28b",
   "metadata": {},
   "outputs": [],
   "source": [
    "import os\n",
    "import numpy as np\n",
    "import torch\n",
    "import torch.nn as nn\n",
    "import torch.optim as optim\n",
    "import torch.nn.functional as F\n",
    "from torch.utils.data import Dataset, DataLoader, WeightedRandomSampler, random_split\n",
    "import torch.optim as optim\n",
    "from torch.optim.lr_scheduler import StepLR, ReduceLROnPlateau\n",
    "from sklearn.metrics import accuracy_score\n",
    "from torchvision import datasets, transforms\n",
    "from torch.cuda.amp import autocast, GradScaler\n",
    "from torch.utils.data import RandomSampler\n",
    "import matplotlib.pyplot as plt\n",
    "from mpl_toolkits.mplot3d import Axes3D\n",
    "import pandas as pd"
   ]
  },
  {
   "cell_type": "code",
   "execution_count": 2,
   "id": "0bf3c664-f2c1-464b-98b8-f4cba7e8f5a2",
   "metadata": {},
   "outputs": [],
   "source": [
    "# Data augmentation functions\n",
    "def rotate_point_cloud(points):\n",
    "    \"\"\"Rotate the point cloud around the z-axis.\"\"\"\n",
    "    angle = np.random.uniform(0, 2 * np.pi)\n",
    "    cos_val = np.cos(angle)\n",
    "    sin_val = np.sin(angle)\n",
    "    rotation_matrix = np.array([\n",
    "        [cos_val, -sin_val, 0],\n",
    "        [sin_val, cos_val, 0],\n",
    "        [0, 0, 1]\n",
    "    ])\n",
    "    rotated_points = np.dot(points, rotation_matrix.T)\n",
    "    return rotated_points\n",
    "\n",
    "def translate_point_cloud(points):\n",
    "    \"\"\"Translate the point cloud by a small random vector.\"\"\"\n",
    "    translation_vector = np.random.uniform(-0.2, 0.2, size=(1, 3))\n",
    "    translated_points = points + translation_vector\n",
    "    return translated_points\n",
    "\n",
    "def scale_point_cloud(points):\n",
    "    \"\"\"Scale the point cloud by a random factor.\"\"\"\n",
    "    scale_factor = np.random.uniform(0.8, 1.2)\n",
    "    scaled_points = points * scale_factor\n",
    "    return scaled_points\n",
    "\n",
    "def jitter_point_cloud(points):\n",
    "    \"\"\"Add Gaussian noise to the point cloud.\"\"\"\n",
    "    noise = np.random.normal(0, 0.01, points.shape)\n",
    "    jittered_points = points + noise\n",
    "    return jittered_points\n",
    "\n",
    "def augment_point_cloud(points):\n",
    "    points = rotate_point_cloud(points)\n",
    "    points = translate_point_cloud(points)\n",
    "    points = scale_point_cloud(points)\n",
    "    points = jitter_point_cloud(points)\n",
    "    return points\n",
    "\n",
    "def normalize_point_cloud(points):\n",
    "    \"\"\"Normalize the point cloud.\"\"\"\n",
    "    centroid = np.mean(points, axis=0)\n",
    "    points -= centroid\n",
    "    max_dist = np.max(np.sqrt(np.sum(points**2, axis=1)))\n",
    "    points /= max_dist\n",
    "    return points\n"
   ]
  },
  {
   "cell_type": "code",
   "execution_count": 14,
   "id": "f509a551-6381-466d-b0fe-4d6b43d31625",
   "metadata": {},
   "outputs": [],
   "source": [
    "\n",
    "\n",
    "\n",
    "class PointCloudDataset(Dataset):\n",
    "    def __init__(self, data_dir, augment=True):\n",
    "        self.data_dir = data_dir\n",
    "        self.files = [f for f in os.listdir(data_dir) if f.endswith('.npy')]\n",
    "        self.augment = augment\n",
    "\n",
    "    def __len__(self):\n",
    "        return len(self.files)\n",
    "\n",
    "    def __getitem__(self, idx):\n",
    "        file_path = os.path.join(self.data_dir, self.files[idx])\n",
    "        data = np.load(file_path)\n",
    "        points = data[:, :3]  \n",
    "        labels = data[:, 3]   \n",
    "        \n",
    "        #if self.augment:\n",
    "        points = augment_point_cloud(points)\n",
    "            \n",
    "        \n",
    "        points = normalize_point_cloud(points)\n",
    "        \n",
    "        \n",
    "        points = torch.FloatTensor(points)\n",
    "        labels = torch.FloatTensor(labels)  # Convert labels to float for BCELoss\n",
    "        \n",
    "        return points, labels\n",
    "\n",
    "\n",
    "\n",
    "def collate_fn(batch):\n",
    " \n",
    "    max_points = min(1024, max(item[0].size(0) for item in batch))  # Limit to 1024 points\n",
    "\n",
    "    padded_points = []\n",
    "    padded_labels = []\n",
    "\n",
    "    for points, labels in batch:\n",
    "        \n",
    "        if points.size(0) > max_points:\n",
    "            points = points[:max_points]\n",
    "            labels = labels[:max_points]\n",
    "        \n",
    "        \n",
    "        pad_size = max_points - points.size(0)\n",
    "        \n",
    "   \n",
    "        padded = torch.nn.functional.pad(points, (0, 0, 0, pad_size)) \n",
    "        padded_points.append(padded)\n",
    "        \n",
    "\n",
    "        padded_label = torch.cat((labels, torch.zeros(pad_size)))\n",
    "        padded_labels.append(padded_label)\n",
    "\n",
    "\n",
    "    return torch.stack(padded_points), torch.stack(padded_labels)"
   ]
  },
  {
   "cell_type": "code",
   "execution_count": 15,
   "id": "cbd17182-25e4-4de8-8b39-c5c99784a904",
   "metadata": {},
   "outputs": [],
   "source": [
    "import torch\n",
    "import torch.nn as nn\n",
    "\n",
    "class PointNetPlusPlus(nn.Module):\n",
    "    def __init__(self):\n",
    "        super(PointNetPlusPlus, self).__init__()\n",
    "\n",
    "        # First MLP block with dropout\n",
    "        self.mlp1 = nn.Sequential(\n",
    "            nn.Linear(3, 128),\n",
    "            nn.ReLU(),\n",
    "            nn.Dropout(0.5),\n",
    "            nn.Linear(128, 256),\n",
    "            nn.ReLU(),\n",
    "            nn.Dropout(0.5),\n",
    "            nn.Linear(256, 512),\n",
    "            nn.ReLU(),\n",
    "            nn.Dropout(0.5)\n",
    "        )\n",
    "\n",
    "        self.bn1 = nn.BatchNorm1d(512)  \n",
    "\n",
    "       \n",
    "        self.residual1 = nn.Linear(3, 512) \n",
    "\n",
    "       \n",
    "        self.abstraction = nn.Sequential(\n",
    "            nn.Linear(512, 256),\n",
    "            nn.ReLU(),\n",
    "            nn.Linear(256, 128),\n",
    "            nn.ReLU()\n",
    "        )\n",
    "\n",
    "        self.mlp2 = nn.Sequential(\n",
    "            nn.Linear(128, 256),\n",
    "            nn.ReLU(),\n",
    "            nn.Dropout(0.5),\n",
    "            nn.Linear(256, 256),\n",
    "            nn.ReLU(),\n",
    "            nn.Dropout(0.5),\n",
    "            nn.Linear(256, 128),\n",
    "            nn.ReLU(),\n",
    "            nn.Linear(128, 1)  \n",
    "        )\n",
    "\n",
    "       \n",
    "        self.residual2 = nn.Linear(128, 1) \n",
    "\n",
    "        self.mlp3 = nn.Sequential(\n",
    "            nn.Linear(1, 128),\n",
    "            nn.ReLU(),\n",
    "            nn.Dropout(0.5),\n",
    "            nn.Linear(128, 256),\n",
    "            nn.ReLU(),\n",
    "            nn.Dropout(0.5),\n",
    "            nn.Linear(256, 128),\n",
    "            nn.ReLU(),\n",
    "            nn.Linear(128, 1) \n",
    "        )\n",
    "        \n",
    "       \n",
    "        self.residual3 = nn.Linear(1, 1)  \n",
    "\n",
    "    def forward(self, x):\n",
    "        # Apply the first MLP\n",
    "        identity1 = self.residual1(x)\n",
    "        x = self.mlp1(x)\n",
    "        x = x + identity1\n",
    "\n",
    "        # Apply the second MLP with residual connection\n",
    "        x = self.abstraction(x)\n",
    "        identity2 = self.residual2(x)\n",
    "        x = self.mlp2(x)\n",
    "        x = x + identity2\n",
    "\n",
    "        # Apply the third MLP with residual connection\n",
    "        identity3 = self.residual3(x)\n",
    "        x = self.mlp3(x)\n",
    "        x = x + identity3\n",
    "\n",
    "        # Final output\n",
    "        return x.squeeze(-1) \n"
   ]
  },
  {
   "cell_type": "code",
   "execution_count": 16,
   "id": "cc3206ab",
   "metadata": {},
   "outputs": [
    {
     "name": "stdout",
     "output_type": "stream",
     "text": [
      "Extracted data to /home/jovyan/RnD/dataset_npy\n"
     ]
    }
   ],
   "source": [
    "import zipfile\n",
    "import os\n",
    "\n",
    "# Define the path to your zip file and the extraction directory\n",
    "zip_file_path = '/home/jovyan/RnD/dataset_npy.zip'\n",
    "extract_dir = '/home/jovyan/RnD/dataset_npy'  # Folder where data will be extracted\n",
    "\n",
    "# Check if the extraction directory exists, if not, create it\n",
    "if not os.path.exists(extract_dir):\n",
    "    os.makedirs(extract_dir)\n",
    "\n",
    "# Extract the zip file\n",
    "with zipfile.ZipFile(zip_file_path, 'r') as zip_ref:\n",
    "    zip_ref.extractall(extract_dir)\n",
    "\n",
    "print(f\"Extracted data to {extract_dir}\")"
   ]
  },
  {
   "cell_type": "code",
   "execution_count": null,
   "id": "3d9e9fcf-8555-4300-b21c-20bdc7863bbb",
   "metadata": {
    "scrolled": true
   },
   "outputs": [
    {
     "name": "stdout",
     "output_type": "stream",
     "text": [
      "Epoch 1/64\n"
     ]
    },
    {
     "name": "stderr",
     "output_type": "stream",
     "text": [
      "Training:   0%|          | 0/3 [00:00<?, ?it/s]"
     ]
    },
    {
     "name": "stderr",
     "output_type": "stream",
     "text": [
      "                                                         \r"
     ]
    },
    {
     "name": "stdout",
     "output_type": "stream",
     "text": [
      "Train Loss: 0.6171, Val Loss: 0.6045, Val Accuracy: 0.7494\n",
      "Saved the best model!\n",
      "Epoch 2/64\n"
     ]
    },
    {
     "name": "stderr",
     "output_type": "stream",
     "text": [
      "                                                         \r"
     ]
    },
    {
     "name": "stdout",
     "output_type": "stream",
     "text": [
      "Train Loss: 0.6026, Val Loss: 0.5932, Val Accuracy: 0.7494\n",
      "Saved the best model!\n",
      "Epoch 3/64\n"
     ]
    },
    {
     "name": "stderr",
     "output_type": "stream",
     "text": [
      "                                                         \r"
     ]
    },
    {
     "name": "stdout",
     "output_type": "stream",
     "text": [
      "Train Loss: 0.5909, Val Loss: 0.5839, Val Accuracy: 0.7494\n",
      "Saved the best model!\n",
      "Epoch 4/64\n"
     ]
    },
    {
     "name": "stderr",
     "output_type": "stream",
     "text": [
      "                                                         \r"
     ]
    },
    {
     "name": "stdout",
     "output_type": "stream",
     "text": [
      "Train Loss: 0.5811, Val Loss: 0.5755, Val Accuracy: 0.7494\n",
      "Saved the best model!\n",
      "Epoch 5/64\n"
     ]
    },
    {
     "name": "stderr",
     "output_type": "stream",
     "text": [
      "                                                         \r"
     ]
    },
    {
     "name": "stdout",
     "output_type": "stream",
     "text": [
      "Train Loss: 0.5724, Val Loss: 0.5689, Val Accuracy: 0.7494\n",
      "Saved the best model!\n",
      "Epoch 6/64\n"
     ]
    },
    {
     "name": "stderr",
     "output_type": "stream",
     "text": [
      "                                                         \r"
     ]
    },
    {
     "name": "stdout",
     "output_type": "stream",
     "text": [
      "Train Loss: 0.5660, Val Loss: 0.5638, Val Accuracy: 0.7494\n",
      "Saved the best model!\n",
      "Epoch 7/64\n"
     ]
    },
    {
     "name": "stderr",
     "output_type": "stream",
     "text": [
      "                                                         \r"
     ]
    },
    {
     "name": "stdout",
     "output_type": "stream",
     "text": [
      "Train Loss: 0.5620, Val Loss: 0.5610, Val Accuracy: 0.7494\n",
      "Saved the best model!\n",
      "Epoch 8/64\n"
     ]
    },
    {
     "name": "stderr",
     "output_type": "stream",
     "text": [
      "                                                         \r"
     ]
    },
    {
     "name": "stdout",
     "output_type": "stream",
     "text": [
      "Train Loss: 0.5614, Val Loss: 0.5588, Val Accuracy: 0.7494\n",
      "Saved the best model!\n",
      "Epoch 9/64\n"
     ]
    },
    {
     "name": "stderr",
     "output_type": "stream",
     "text": [
      "                                                         \r"
     ]
    },
    {
     "name": "stdout",
     "output_type": "stream",
     "text": [
      "Train Loss: 0.5599, Val Loss: 0.5589, Val Accuracy: 0.7494\n",
      "Epoch 10/64\n"
     ]
    },
    {
     "name": "stderr",
     "output_type": "stream",
     "text": [
      "                                                         \r"
     ]
    },
    {
     "name": "stdout",
     "output_type": "stream",
     "text": [
      "Train Loss: 0.5601, Val Loss: 0.5580, Val Accuracy: 0.7494\n",
      "Saved the best model!\n",
      "Epoch 11/64\n"
     ]
    },
    {
     "name": "stderr",
     "output_type": "stream",
     "text": [
      "                                                         \r"
     ]
    },
    {
     "name": "stdout",
     "output_type": "stream",
     "text": [
      "Train Loss: 0.5593, Val Loss: 0.5557, Val Accuracy: 0.7494\n",
      "Saved the best model!\n",
      "Epoch 12/64\n"
     ]
    },
    {
     "name": "stderr",
     "output_type": "stream",
     "text": [
      "                                                         \r"
     ]
    },
    {
     "name": "stdout",
     "output_type": "stream",
     "text": [
      "Train Loss: 0.5559, Val Loss: 0.5557, Val Accuracy: 0.7494\n",
      "Saved the best model!\n",
      "Epoch 13/64\n"
     ]
    },
    {
     "name": "stderr",
     "output_type": "stream",
     "text": [
      "                                                         \r"
     ]
    },
    {
     "name": "stdout",
     "output_type": "stream",
     "text": [
      "Train Loss: 0.5552, Val Loss: 0.5539, Val Accuracy: 0.7494\n",
      "Saved the best model!\n",
      "Epoch 14/64\n"
     ]
    },
    {
     "name": "stderr",
     "output_type": "stream",
     "text": [
      "                                                         \r"
     ]
    },
    {
     "name": "stdout",
     "output_type": "stream",
     "text": [
      "Train Loss: 0.5535, Val Loss: 0.5514, Val Accuracy: 0.7494\n",
      "Saved the best model!\n",
      "Epoch 15/64\n"
     ]
    },
    {
     "name": "stderr",
     "output_type": "stream",
     "text": [
      "                                                         \r"
     ]
    },
    {
     "name": "stdout",
     "output_type": "stream",
     "text": [
      "Train Loss: 0.5513, Val Loss: 0.5499, Val Accuracy: 0.7494\n",
      "Saved the best model!\n",
      "Epoch 16/64\n"
     ]
    },
    {
     "name": "stderr",
     "output_type": "stream",
     "text": [
      "                                                         \r"
     ]
    },
    {
     "name": "stdout",
     "output_type": "stream",
     "text": [
      "Train Loss: 0.5498, Val Loss: 0.5468, Val Accuracy: 0.7494\n",
      "Saved the best model!\n",
      "Epoch 17/64\n"
     ]
    },
    {
     "name": "stderr",
     "output_type": "stream",
     "text": [
      "                                                         \r"
     ]
    },
    {
     "name": "stdout",
     "output_type": "stream",
     "text": [
      "Train Loss: 0.5468, Val Loss: 0.5447, Val Accuracy: 0.7494\n",
      "Saved the best model!\n",
      "Epoch 18/64\n"
     ]
    },
    {
     "name": "stderr",
     "output_type": "stream",
     "text": [
      "                                                         \r"
     ]
    },
    {
     "name": "stdout",
     "output_type": "stream",
     "text": [
      "Train Loss: 0.5441, Val Loss: 0.5409, Val Accuracy: 0.7494\n",
      "Saved the best model!\n",
      "Epoch 19/64\n"
     ]
    },
    {
     "name": "stderr",
     "output_type": "stream",
     "text": [
      "                                                         \r"
     ]
    },
    {
     "name": "stdout",
     "output_type": "stream",
     "text": [
      "Train Loss: 0.5416, Val Loss: 0.5375, Val Accuracy: 0.7494\n",
      "Saved the best model!\n",
      "Epoch 20/64\n"
     ]
    },
    {
     "name": "stderr",
     "output_type": "stream",
     "text": [
      "                                                         \r"
     ]
    },
    {
     "name": "stdout",
     "output_type": "stream",
     "text": [
      "Train Loss: 0.5377, Val Loss: 0.5328, Val Accuracy: 0.7494\n",
      "Saved the best model!\n",
      "Epoch 21/64\n"
     ]
    },
    {
     "name": "stderr",
     "output_type": "stream",
     "text": [
      "                                                         \r"
     ]
    },
    {
     "name": "stdout",
     "output_type": "stream",
     "text": [
      "Train Loss: 0.5335, Val Loss: 0.5297, Val Accuracy: 0.7494\n",
      "Saved the best model!\n",
      "Epoch 22/64\n"
     ]
    },
    {
     "name": "stderr",
     "output_type": "stream",
     "text": [
      "                                                         \r"
     ]
    },
    {
     "name": "stdout",
     "output_type": "stream",
     "text": [
      "Train Loss: 0.5294, Val Loss: 0.5241, Val Accuracy: 0.7494\n",
      "Saved the best model!\n",
      "Epoch 23/64\n"
     ]
    },
    {
     "name": "stderr",
     "output_type": "stream",
     "text": [
      "                                                         \r"
     ]
    },
    {
     "name": "stdout",
     "output_type": "stream",
     "text": [
      "Train Loss: 0.5262, Val Loss: 0.5217, Val Accuracy: 0.7494\n",
      "Saved the best model!\n",
      "Epoch 24/64\n"
     ]
    },
    {
     "name": "stderr",
     "output_type": "stream",
     "text": [
      "                                                         \r"
     ]
    },
    {
     "name": "stdout",
     "output_type": "stream",
     "text": [
      "Train Loss: 0.5227, Val Loss: 0.5165, Val Accuracy: 0.7494\n",
      "Saved the best model!\n",
      "Epoch 25/64\n"
     ]
    },
    {
     "name": "stderr",
     "output_type": "stream",
     "text": [
      "                                                         \r"
     ]
    },
    {
     "name": "stdout",
     "output_type": "stream",
     "text": [
      "Train Loss: 0.5201, Val Loss: 0.5114, Val Accuracy: 0.7494\n",
      "Saved the best model!\n",
      "Epoch 26/64\n"
     ]
    },
    {
     "name": "stderr",
     "output_type": "stream",
     "text": [
      "                                                         \r"
     ]
    },
    {
     "name": "stdout",
     "output_type": "stream",
     "text": [
      "Train Loss: 0.5118, Val Loss: 0.5046, Val Accuracy: 0.7494\n",
      "Saved the best model!\n",
      "Epoch 27/64\n"
     ]
    },
    {
     "name": "stderr",
     "output_type": "stream",
     "text": [
      "                                                         \r"
     ]
    },
    {
     "name": "stdout",
     "output_type": "stream",
     "text": [
      "Train Loss: 0.5084, Val Loss: 0.4995, Val Accuracy: 0.7494\n",
      "Saved the best model!\n",
      "Epoch 28/64\n"
     ]
    },
    {
     "name": "stderr",
     "output_type": "stream",
     "text": [
      "                                                         \r"
     ]
    },
    {
     "name": "stdout",
     "output_type": "stream",
     "text": [
      "Train Loss: 0.5021, Val Loss: 0.4916, Val Accuracy: 0.7494\n",
      "Saved the best model!\n",
      "Epoch 29/64\n"
     ]
    },
    {
     "name": "stderr",
     "output_type": "stream",
     "text": [
      "                                                         \r"
     ]
    },
    {
     "name": "stdout",
     "output_type": "stream",
     "text": [
      "Train Loss: 0.4956, Val Loss: 0.4875, Val Accuracy: 0.7496\n",
      "Saved the best model!\n",
      "Epoch 30/64\n"
     ]
    },
    {
     "name": "stderr",
     "output_type": "stream",
     "text": [
      "                                                         \r"
     ]
    },
    {
     "name": "stdout",
     "output_type": "stream",
     "text": [
      "Train Loss: 0.4906, Val Loss: 0.4811, Val Accuracy: 0.7506\n",
      "Saved the best model!\n",
      "Epoch 31/64\n"
     ]
    },
    {
     "name": "stderr",
     "output_type": "stream",
     "text": [
      "                                                         \r"
     ]
    },
    {
     "name": "stdout",
     "output_type": "stream",
     "text": [
      "Train Loss: 0.4861, Val Loss: 0.4743, Val Accuracy: 0.7513\n",
      "Saved the best model!\n",
      "Epoch 32/64\n"
     ]
    },
    {
     "name": "stderr",
     "output_type": "stream",
     "text": [
      "                                                         \r"
     ]
    },
    {
     "name": "stdout",
     "output_type": "stream",
     "text": [
      "Train Loss: 0.4807, Val Loss: 0.4702, Val Accuracy: 0.7531\n",
      "Saved the best model!\n",
      "Epoch 33/64\n"
     ]
    },
    {
     "name": "stderr",
     "output_type": "stream",
     "text": [
      "                                                         \r"
     ]
    },
    {
     "name": "stdout",
     "output_type": "stream",
     "text": [
      "Train Loss: 0.4757, Val Loss: 0.4681, Val Accuracy: 0.7579\n",
      "Saved the best model!\n",
      "Epoch 34/64\n"
     ]
    },
    {
     "name": "stderr",
     "output_type": "stream",
     "text": [
      "                                                         \r"
     ]
    },
    {
     "name": "stdout",
     "output_type": "stream",
     "text": [
      "Train Loss: 0.4694, Val Loss: 0.4626, Val Accuracy: 0.7639\n",
      "Saved the best model!\n",
      "Epoch 35/64\n"
     ]
    },
    {
     "name": "stderr",
     "output_type": "stream",
     "text": [
      "                                                         \r"
     ]
    },
    {
     "name": "stdout",
     "output_type": "stream",
     "text": [
      "Train Loss: 0.4661, Val Loss: 0.4589, Val Accuracy: 0.7743\n",
      "Saved the best model!\n",
      "Epoch 36/64\n"
     ]
    },
    {
     "name": "stderr",
     "output_type": "stream",
     "text": [
      "                                                         \r"
     ]
    },
    {
     "name": "stdout",
     "output_type": "stream",
     "text": [
      "Train Loss: 0.4625, Val Loss: 0.4582, Val Accuracy: 0.7798\n",
      "Saved the best model!\n",
      "Epoch 37/64\n"
     ]
    },
    {
     "name": "stderr",
     "output_type": "stream",
     "text": [
      "                                                         \r"
     ]
    },
    {
     "name": "stdout",
     "output_type": "stream",
     "text": [
      "Train Loss: 0.4620, Val Loss: 0.4531, Val Accuracy: 0.7869\n",
      "Saved the best model!\n",
      "Epoch 38/64\n"
     ]
    },
    {
     "name": "stderr",
     "output_type": "stream",
     "text": [
      "                                                         \r"
     ]
    },
    {
     "name": "stdout",
     "output_type": "stream",
     "text": [
      "Train Loss: 0.4568, Val Loss: 0.4481, Val Accuracy: 0.7959\n",
      "Saved the best model!\n",
      "Epoch 39/64\n"
     ]
    },
    {
     "name": "stderr",
     "output_type": "stream",
     "text": [
      "                                                         \r"
     ]
    },
    {
     "name": "stdout",
     "output_type": "stream",
     "text": [
      "Train Loss: 0.4522, Val Loss: 0.4459, Val Accuracy: 0.8019\n",
      "Saved the best model!\n",
      "Epoch 40/64\n"
     ]
    },
    {
     "name": "stderr",
     "output_type": "stream",
     "text": [
      "                                                         \r"
     ]
    },
    {
     "name": "stdout",
     "output_type": "stream",
     "text": [
      "Train Loss: 0.4505, Val Loss: 0.4392, Val Accuracy: 0.8075\n",
      "Saved the best model!\n",
      "Epoch 41/64\n"
     ]
    },
    {
     "name": "stderr",
     "output_type": "stream",
     "text": [
      "                                                         \r"
     ]
    },
    {
     "name": "stdout",
     "output_type": "stream",
     "text": [
      "Train Loss: 0.4400, Val Loss: 0.4383, Val Accuracy: 0.8083\n",
      "Saved the best model!\n",
      "Epoch 42/64\n"
     ]
    },
    {
     "name": "stderr",
     "output_type": "stream",
     "text": [
      "                                                         \r"
     ]
    },
    {
     "name": "stdout",
     "output_type": "stream",
     "text": [
      "Train Loss: 0.4382, Val Loss: 0.4285, Val Accuracy: 0.8160\n",
      "Saved the best model!\n",
      "Epoch 43/64\n"
     ]
    },
    {
     "name": "stderr",
     "output_type": "stream",
     "text": [
      "                                                         \r"
     ]
    },
    {
     "name": "stdout",
     "output_type": "stream",
     "text": [
      "Train Loss: 0.4353, Val Loss: 0.4280, Val Accuracy: 0.8157\n",
      "Saved the best model!\n",
      "Epoch 44/64\n"
     ]
    },
    {
     "name": "stderr",
     "output_type": "stream",
     "text": [
      "                                                         \r"
     ]
    },
    {
     "name": "stdout",
     "output_type": "stream",
     "text": [
      "Train Loss: 0.4297, Val Loss: 0.4214, Val Accuracy: 0.8197\n",
      "Saved the best model!\n",
      "Epoch 45/64\n"
     ]
    },
    {
     "name": "stderr",
     "output_type": "stream",
     "text": [
      "                                                         \r"
     ]
    },
    {
     "name": "stdout",
     "output_type": "stream",
     "text": [
      "Train Loss: 0.4242, Val Loss: 0.4138, Val Accuracy: 0.8244\n",
      "Saved the best model!\n",
      "Epoch 46/64\n"
     ]
    },
    {
     "name": "stderr",
     "output_type": "stream",
     "text": [
      "                                                         \r"
     ]
    },
    {
     "name": "stdout",
     "output_type": "stream",
     "text": [
      "Train Loss: 0.4178, Val Loss: 0.4094, Val Accuracy: 0.8263\n",
      "Saved the best model!\n",
      "Epoch 47/64\n"
     ]
    },
    {
     "name": "stderr",
     "output_type": "stream",
     "text": [
      "                                                         \r"
     ]
    },
    {
     "name": "stdout",
     "output_type": "stream",
     "text": [
      "Train Loss: 0.4160, Val Loss: 0.3983, Val Accuracy: 0.8334\n",
      "Saved the best model!\n",
      "Epoch 48/64\n"
     ]
    },
    {
     "name": "stderr",
     "output_type": "stream",
     "text": [
      "                                                         \r"
     ]
    },
    {
     "name": "stdout",
     "output_type": "stream",
     "text": [
      "Train Loss: 0.4053, Val Loss: 0.3933, Val Accuracy: 0.8348\n",
      "Saved the best model!\n",
      "Epoch 49/64\n"
     ]
    },
    {
     "name": "stderr",
     "output_type": "stream",
     "text": [
      "                                                         \r"
     ]
    },
    {
     "name": "stdout",
     "output_type": "stream",
     "text": [
      "Train Loss: 0.3967, Val Loss: 0.3813, Val Accuracy: 0.8402\n",
      "Saved the best model!\n",
      "Epoch 50/64\n"
     ]
    },
    {
     "name": "stderr",
     "output_type": "stream",
     "text": [
      "                                                         \r"
     ]
    },
    {
     "name": "stdout",
     "output_type": "stream",
     "text": [
      "Train Loss: 0.3927, Val Loss: 0.3767, Val Accuracy: 0.8426\n",
      "Saved the best model!\n",
      "Epoch 51/64\n"
     ]
    },
    {
     "name": "stderr",
     "output_type": "stream",
     "text": [
      "                                                         \r"
     ]
    },
    {
     "name": "stdout",
     "output_type": "stream",
     "text": [
      "Train Loss: 0.3804, Val Loss: 0.3596, Val Accuracy: 0.8517\n",
      "Saved the best model!\n",
      "Epoch 52/64\n"
     ]
    },
    {
     "name": "stderr",
     "output_type": "stream",
     "text": [
      "                                                         \r"
     ]
    },
    {
     "name": "stdout",
     "output_type": "stream",
     "text": [
      "Train Loss: 0.3679, Val Loss: 0.3524, Val Accuracy: 0.8518\n",
      "Saved the best model!\n",
      "Epoch 53/64\n"
     ]
    },
    {
     "name": "stderr",
     "output_type": "stream",
     "text": [
      "                                                         \r"
     ]
    },
    {
     "name": "stdout",
     "output_type": "stream",
     "text": [
      "Train Loss: 0.3589, Val Loss: 0.3294, Val Accuracy: 0.8620\n",
      "Saved the best model!\n",
      "Epoch 54/64\n"
     ]
    },
    {
     "name": "stderr",
     "output_type": "stream",
     "text": [
      "                                                         \r"
     ]
    },
    {
     "name": "stdout",
     "output_type": "stream",
     "text": [
      "Train Loss: 0.3457, Val Loss: 0.3165, Val Accuracy: 0.8680\n",
      "Saved the best model!\n",
      "Epoch 55/64\n"
     ]
    },
    {
     "name": "stderr",
     "output_type": "stream",
     "text": [
      "                                                         \r"
     ]
    },
    {
     "name": "stdout",
     "output_type": "stream",
     "text": [
      "Train Loss: 0.3318, Val Loss: 0.3131, Val Accuracy: 0.8665\n",
      "Saved the best model!\n",
      "Epoch 56/64\n"
     ]
    },
    {
     "name": "stderr",
     "output_type": "stream",
     "text": [
      "                                                         \r"
     ]
    },
    {
     "name": "stdout",
     "output_type": "stream",
     "text": [
      "Train Loss: 0.3205, Val Loss: 0.2827, Val Accuracy: 0.8774\n",
      "Saved the best model!\n",
      "Epoch 57/64\n"
     ]
    },
    {
     "name": "stderr",
     "output_type": "stream",
     "text": [
      "                                                         \r"
     ]
    },
    {
     "name": "stdout",
     "output_type": "stream",
     "text": [
      "Train Loss: 0.3013, Val Loss: 0.2543, Val Accuracy: 0.8889\n",
      "Saved the best model!\n",
      "Epoch 58/64\n"
     ]
    },
    {
     "name": "stderr",
     "output_type": "stream",
     "text": [
      "                                                         \r"
     ]
    },
    {
     "name": "stdout",
     "output_type": "stream",
     "text": [
      "Train Loss: 0.2885, Val Loss: 0.2417, Val Accuracy: 0.8925\n",
      "Saved the best model!\n",
      "Epoch 59/64\n"
     ]
    },
    {
     "name": "stderr",
     "output_type": "stream",
     "text": [
      "                                                         \r"
     ]
    },
    {
     "name": "stdout",
     "output_type": "stream",
     "text": [
      "Train Loss: 0.2724, Val Loss: 0.2207, Val Accuracy: 0.9028\n",
      "Saved the best model!\n",
      "Epoch 60/64\n"
     ]
    },
    {
     "name": "stderr",
     "output_type": "stream",
     "text": [
      "                                                         \r"
     ]
    },
    {
     "name": "stdout",
     "output_type": "stream",
     "text": [
      "Train Loss: 0.2612, Val Loss: 0.2057, Val Accuracy: 0.9110\n",
      "Saved the best model!\n",
      "Epoch 61/64\n"
     ]
    },
    {
     "name": "stderr",
     "output_type": "stream",
     "text": [
      "                                                         \r"
     ]
    },
    {
     "name": "stdout",
     "output_type": "stream",
     "text": [
      "Train Loss: 0.2477, Val Loss: 0.1967, Val Accuracy: 0.9153\n",
      "Saved the best model!\n",
      "Epoch 62/64\n"
     ]
    },
    {
     "name": "stderr",
     "output_type": "stream",
     "text": [
      "                                                         \r"
     ]
    },
    {
     "name": "stdout",
     "output_type": "stream",
     "text": [
      "Train Loss: 0.2391, Val Loss: 0.1810, Val Accuracy: 0.9240\n",
      "Saved the best model!\n",
      "Epoch 63/64\n"
     ]
    },
    {
     "name": "stderr",
     "output_type": "stream",
     "text": [
      "                                                         \r"
     ]
    },
    {
     "name": "stdout",
     "output_type": "stream",
     "text": [
      "Train Loss: 0.2300, Val Loss: 0.1710, Val Accuracy: 0.9291\n",
      "Saved the best model!\n",
      "Epoch 64/64\n"
     ]
    },
    {
     "name": "stderr",
     "output_type": "stream",
     "text": [
      "                                                         \r"
     ]
    },
    {
     "name": "stdout",
     "output_type": "stream",
     "text": [
      "Train Loss: 0.2242, Val Loss: 0.1638, Val Accuracy: 0.9324\n",
      "Saved the best model!\n",
      "Training finished!\n"
     ]
    },
    {
     "data": {
      "image/png": "[encoded data removed]",
      "text/plain": [
       "<Figure size 1000x600 with 1 Axes>"
      ]
     },
     "metadata": {},
     "output_type": "display_data"
    }
   ],
   "source": [
    "import torch\n",
    "import torch.optim as optim\n",
    "import torch.nn as nn\n",
    "from torch.utils.data import DataLoader\n",
    "from torch.optim.lr_scheduler import StepLR\n",
    "import os\n",
    "import numpy as np\n",
    "import pandas as pd\n",
    "import time\n",
    "from tqdm import tqdm\n",
    "import matplotlib.pyplot as plt\n",
    "\n",
    "data_dir = '/home/jovyan/RnD/dataset_npy/dataset_csf' #provide input directory of the filtered data\n",
    "\n",
    "# Hyperparameters\n",
    "batch_size = 128\n",
    "num_epochs = 64\n",
    "learning_rate = 0.0001\n",
    "step_size = 20  \n",
    "gamma = 0.7  \n",
    "device = torch.device('cuda' if torch.cuda.is_available() else 'cpu')\n",
    "\n",
    "# Dataset and DataLoader\n",
    "train_dataset = PointCloudDataset(data_dir=data_dir, augment=True)\n",
    "train_loader = DataLoader(train_dataset, batch_size=batch_size, shuffle=True, collate_fn=collate_fn)\n",
    "\n",
    "val_dataset = PointCloudDataset(data_dir=data_dir, augment=False)\n",
    "val_loader = DataLoader(val_dataset, batch_size=batch_size, shuffle=False, collate_fn=collate_fn)\n",
    "\n",
    "# Model\n",
    "model = PointNetPlusPlus().to(device)\n",
    "criterion = nn.BCEWithLogitsLoss()\n",
    "optimizer = optim.Adam(model.parameters(), lr=learning_rate)\n",
    "scheduler = StepLR(optimizer, step_size=step_size, gamma=gamma)\n",
    "epoch_durations = []\n",
    "train_losses = []\n",
    "start_time = time.time()\n",
    "# Training Loop\n",
    "best_val_loss = float('inf')\n",
    "def train_one_epoch(model, dataloader, optimizer, criterion, device):\n",
    "    model.train()\n",
    "    running_loss = 0.0\n",
    "\n",
    "    for data, labels in tqdm(dataloader, desc=\"Training\", leave=False):\n",
    "        data = data.to(device).float()\n",
    "        labels = labels.to(device).float()  # BCEWithLogitsLoss expects float\n",
    "\n",
    "        optimizer.zero_grad()\n",
    "        outputs = model(data)\n",
    "        loss = criterion(outputs, labels)\n",
    "        loss.backward()\n",
    "        optimizer.step()\n",
    "\n",
    "        running_loss += loss.item() * data.size(0)\n",
    "\n",
    "    epoch_loss = running_loss / len(dataloader.dataset)\n",
    "    return epoch_loss\n",
    "\n",
    "\n",
    "def validate(model, dataloader, criterion, device):\n",
    "    model.eval()\n",
    "    running_loss = 0.0\n",
    "    correct = 0\n",
    "    total = 0\n",
    "\n",
    "    with torch.no_grad():\n",
    "        for data, labels in tqdm(dataloader, desc=\"Validation\", leave=False):\n",
    "            data = data.to(device).float()\n",
    "            labels = labels.to(device).float()\n",
    "\n",
    "            outputs = model(data)\n",
    "            loss = criterion(outputs, labels)\n",
    "            running_loss += loss.item() * data.size(0)\n",
    "\n",
    "            # Compute accuracy (using threshold of 0.5 for BCE)\n",
    "            preds = torch.sigmoid(outputs) > 0.5\n",
    "            correct += (preds == labels.bool()).sum().item()\n",
    "            total += labels.numel()\n",
    "\n",
    "    epoch_loss = running_loss / len(dataloader.dataset)\n",
    "    accuracy = correct / total if total > 0 else 0\n",
    "    return epoch_loss, accuracy\n",
    "for epoch in range(num_epochs):\n",
    "    print(f'Epoch {epoch + 1}/{num_epochs}')\n",
    "    \n",
    "    \n",
    "    epoch_start_time = time.time()\n",
    "    \n",
    "    train_loss = train_one_epoch(model, train_loader, optimizer, criterion, device)\n",
    "    val_loss, val_accuracy = validate(model, val_loader, criterion, device)\n",
    "    \n",
    "    \n",
    "    epoch_duration = time.time() - epoch_start_time\n",
    "    epoch_durations.append(epoch_duration)\n",
    "    train_losses.append(train_loss)\n",
    "    \n",
    "   \n",
    "    scheduler.step()\n",
    "    \n",
    "    print(f'Train Loss: {train_loss:.4f}, Val Loss: {val_loss:.4f}, Val Accuracy: {val_accuracy:.4f}')\n",
    "    \n",
    "    # Save the best model\n",
    "    if val_loss < best_val_loss:\n",
    "        best_val_loss = val_loss\n",
    "        torch.save(model.state_dict(), 'edgesegment_pointnet_model.pth')\n",
    "        print('Saved the best model!')\n",
    "\n",
    "print('Training finished!')\n",
    "\n",
    "\n",
    "elapsed_times = [sum(epoch_durations[:i+1]) for i in range(num_epochs)] \n",
    "df = pd.DataFrame({\n",
    "    'Elapsed Time (s)': elapsed_times,\n",
    "    'Train Loss': train_losses\n",
    "})\n",
    "df.to_csv('training_time_vs_loss.csv', index=False)\n",
    "\n",
    "# Plot Training Loss vs Elapsed Time\n",
    "plt.figure(figsize=(10, 6))\n",
    "plt.plot(elapsed_times, train_losses, label='Training Loss')\n",
    "plt.xlabel('Elapsed Time (s)')\n",
    "plt.ylabel('Training Loss')\n",
    "plt.title('Training Loss vs Elapsed Time')\n",
    "plt.legend()\n",
    "plt.grid(True)\n",
    "plt.savefig('training_loss_vs_time.png')\n",
    "plt.show()\n"
   ]
  },
  {
   "cell_type": "code",
   "execution_count": 19,
   "id": "aeb9d0fd-89ac-4936-831e-1c4a4a01e621",
   "metadata": {},
   "outputs": [
    {
     "name": "stdout",
     "output_type": "stream",
     "text": [
      "Test Accuracy: 11.77%\n"
     ]
    }
   ],
   "source": [
    "import torch\n",
    "import numpy as np\n",
    "from torch.utils.data import DataLoader\n",
    "\n",
    "\n",
    "model.load_state_dict(torch.load('edgesegment_pointnet_model.pth', map_location=device))\n",
    "model.to(device)\n",
    "model.eval()  \n",
    "\n",
    "# Load the test data\n",
    "test_file = '/home/jovyan/RnD/dataset/grids_2.5/npy/cell_2_28.npy' #provide appropriate test data location\n",
    "test_data = np.load(test_file)\n",
    "test_points = torch.tensor(test_data[:, :3], dtype=torch.float32) \n",
    "test_labels = torch.tensor(test_data[:, 3], dtype=torch.float32) \n",
    "\n",
    "# Prepare test data loader\n",
    "test_dataset = torch.utils.data.TensorDataset(test_points, test_labels)\n",
    "test_loader = DataLoader(test_dataset, batch_size=batch_size, shuffle=False)\n",
    "\n",
    "# Testing function\n",
    "def test_model(model, test_loader, device):\n",
    "    model.eval()\n",
    "    correct = 0\n",
    "    total = 0\n",
    "    with torch.no_grad():\n",
    "        for points, labels in test_loader:\n",
    "            points, labels = points.to(device), labels.to(device)\n",
    "            \n",
    "            outputs = model(points)\n",
    "            outputs = outputs.squeeze(-1)  # Shape: [batch_size, num_points]\n",
    "            \n",
    "            predicted = torch.round(torch.sigmoid(outputs))  # Apply sigmoid and round to get [0, 1]\n",
    "            correct += (predicted == labels).sum().item()\n",
    "            total += labels.numel()\n",
    "    \n",
    "    accuracy = correct / total\n",
    "    return accuracy\n",
    "\n",
    "# Test the model\n",
    "test_accuracy = test_model(model, test_loader, device)\n",
    "print(f'Test Accuracy: {test_accuracy * 100:.2f}%')\n",
    "\n",
    "\n",
    "# dlrv_project_ws/test_pico_2024-07-04_215824.npy"
   ]
  },
  {
   "cell_type": "code",
   "execution_count": 20,
   "id": "3c362ad6-5700-4d30-880f-a9dbdfdc134f",
   "metadata": {},
   "outputs": [
    {
     "name": "stdout",
     "output_type": "stream",
     "text": [
      "Model output shape: torch.Size([1, 4096])\n"
     ]
    },
    {
     "data": {
      "image/png": "[encoded data removed]",
      "text/plain": [
       "<Figure size 640x480 with 1 Axes>"
      ]
     },
     "metadata": {},
     "output_type": "display_data"
    }
   ],
   "source": [
    "# Function to plot the point cloud with predicted edge and non-edge points\n",
    "def plot_point_cloud_with_predictions(points, predictions):\n",
    "    \n",
    "\n",
    "    fig = plt.figure()\n",
    "    ax = fig.add_subplot(111, projection='3d')\n",
    "\n",
    "\n",
    "    if isinstance(predictions, torch.Tensor):\n",
    "        predictions = predictions.cpu().numpy()\n",
    "\n",
    "\n",
    "    if predictions.ndim == 1:\n",
    "        predictions = predictions.reshape(-1)\n",
    "\n",
    "\n",
    "    edges = points[predictions == 1]\n",
    "    non_edges = points[predictions == 0]\n",
    "\n",
    "\n",
    "    ax.scatter(edges[:, 0], edges[:, 1], edges[:, 2], c='r', label='Edge', s=1)\n",
    "\n",
    "\n",
    "    ax.scatter(non_edges[:, 0], non_edges[:, 1], non_edges[:, 2], c='b', label='Non-Edge', s=1)\n",
    "\n",
    "\n",
    "    ax.set_xlabel('X')\n",
    "    ax.set_ylabel('Y')\n",
    "    ax.set_zlabel('Z')\n",
    "    plt.legend()\n",
    "    plt.title(\"Detected Edges (Red) and Non-Edges (Blue)\")\n",
    "    \n",
    "\n",
    "    plt.show()\n",
    "\n",
    "# provide Test point cloud file path\n",
    "test_file = '/home/jovyan/RnD/dataset/grids_2.5/npy/cell_2_28.npy'\n",
    "\n",
    "# Load the test point cloud\n",
    "data = np.load(test_file)\n",
    "points = data[:, :3] \n",
    "\n",
    "\n",
    "points = normalize_point_cloud(points)\n",
    "\n",
    "\n",
    "points_tensor = torch.FloatTensor(points).unsqueeze(0).to(device) \n",
    "\n",
    "model = PointNetPlusPlus().to(device)\n",
    "model.load_state_dict(torch.load('edgesegment_pointnet_model.pth')) #load the model using correct path\n",
    "with torch.no_grad():\n",
    "    outputs = model(points_tensor)\n",
    "    print(f\"Model output shape: {outputs.shape}\")\n",
    "    \n",
    "\n",
    "    if outputs.ndimension() == 3:  \n",
    "        outputs = outputs.squeeze(-1)  \n",
    "\n",
    "    predictions = torch.round(torch.sigmoid(outputs)).squeeze()  # [num_points]\n",
    "\n",
    "\n",
    "if predictions.ndimension() == 1:\n",
    "    predictions = predictions.cpu().numpy()\n",
    "else:\n",
    "    predictions = predictions.squeeze().cpu().numpy()\n",
    "\n",
    "\n",
    "# Plot the point cloud with predicted edges and non-edges\n",
    "plot_point_cloud_with_predictions(points, predictions)\n"
   ]
  },
  {
   "cell_type": "code",
   "execution_count": 21,
   "id": "95fadb98-86d3-4a09-9cb1-b54612349b08",
   "metadata": {},
   "outputs": [
    {
     "data": {
      "image/png": "[encoded data removed]",
      "text/plain": [
       "<Figure size 800x600 with 1 Axes>"
      ]
     },
     "metadata": {},
     "output_type": "display_data"
    }
   ],
   "source": [
    "\n",
    "file_path= r'/home/jovyan/RnD/training_time_vs_loss.csv' #provide the correct filepath for the same\n",
    "data = pd.read_csv(file_path)\n",
    "\n",
    "# Plot training loss vs time\n",
    "plt.figure(figsize=(8, 6))\n",
    "plt.plot(data['Elapsed Time (s)'], data['Train Loss'], label='Training Loss', color='blue', marker='o')\n",
    "plt.xlabel('Time (seconds)')\n",
    "plt.ylabel('Training Loss')\n",
    "plt.title('Training Loss vs Time')\n",
    "plt.legend()\n",
    "plt.grid(True)\n",
    "plt.show()"
   ]
  }
 ],
 "metadata": {
  "kernelspec": {
   "display_name": "Python 3",
   "language": "python",
   "name": "python3"
  },
  "language_info": {
   "codemirror_mode": {
    "name": "ipython",
    "version": 3
   },
   "file_extension": ".py",
   "mimetype": "text/x-python",
   "name": "python",
   "nbconvert_exporter": "python",
   "pygments_lexer": "ipython3",
   "version": "3.11.9"
  }
 },
 "nbformat": 4,
 "nbformat_minor": 5
}
